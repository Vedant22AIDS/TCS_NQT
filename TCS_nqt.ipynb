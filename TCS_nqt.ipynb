{
 "cells": [
  {
   "cell_type": "code",
   "execution_count": 3,
   "id": "13fa56ce-0a2e-4a22-b309-1d3d3a08836d",
   "metadata": {},
   "outputs": [
    {
     "name": "stdout",
     "output_type": "stream",
     "text": [
      "5\n"
     ]
    }
   ],
   "source": [
    "'''\n",
    "Que1\n",
    "Problem Statement: Given an array, we have to find the smallest element in the array.\n",
    "Example 1:\n",
    "Input: arr[] = {2,5,1,3,0};\n",
    "Output: 0\n",
    "Explanation: 0 is the smallest element in the array. \n",
    "\n",
    "Example2: \n",
    "Input: arr[] = {8,10,5,7,9};\n",
    "Output: 5\n",
    "Explanation: 5 is the smallest element in the array.\n",
    "'''\n",
    "arr=[2,5,1,3,0]\n",
    "smallest=0\n",
    "for i in range(1,len(arr)):\n",
    "    if arr[i]>arr[smallest]:\n",
    "        smallest=i\n",
    "print(arr[smallest])"
   ]
  },
  {
   "cell_type": "code",
   "execution_count": 44,
   "id": "e8f61126-4a96-4f0b-a9cc-e10fa8d5f633",
   "metadata": {},
   "outputs": [
    {
     "name": "stdout",
     "output_type": "stream",
     "text": [
      "5\n"
     ]
    }
   ],
   "source": [
    "'''\n",
    "Que2\n",
    "Problem Statement: Given an array, we have to find the largest element in the array.\n",
    "'''\n",
    "arr = [2,5,1,3,0]\n",
    "largest=0\n",
    "for i in arr:\n",
    "    if i>largest:\n",
    "        largest=i\n",
    "print(largest)"
   ]
  },
  {
   "cell_type": "code",
   "execution_count": 45,
   "id": "18d8424a-92ce-4bba-a329-9520ff26a981",
   "metadata": {},
   "outputs": [
    {
     "name": "stdout",
     "output_type": "stream",
     "text": [
      "Second Smallest: 2\n",
      "Second Largest: 7\n",
      "Second Smallest: -1\n",
      "Second Largest: -1\n"
     ]
    }
   ],
   "source": [
    "'''\n",
    "Que3\n",
    "Problem Statement: Given an array, find the second smallest and second largest element in the array. \n",
    "Print ‘-1’ in the event that either of them doesn’t exist.\n",
    "\n",
    "Examples\n",
    "Example 1:\n",
    "Input:\n",
    " [1,2,4,7,7,5]\n",
    "Output:\n",
    " Second Smallest : 2\n",
    "\tSecond Largest : 5\n",
    "Explanation:\n",
    " The elements are as follows 1,2,3,5,7,7 and hence second largest of these is 5 and second smallest is 2\n",
    "\n",
    "Example 2:\n",
    "Input:\n",
    " [1]\n",
    "Output:\n",
    " Second Smallest : -1\n",
    "\tSecond Largest : -1\n",
    "Explanation:\n",
    "Since there is only one element in the array, it is the largest and smallest element present in the array.\n",
    "There is no second largest or second smallest element present.\n",
    "'''\n",
    "def second_smallest_and_largest(arr):\n",
    "    n = len(arr)\n",
    "    \n",
    "    if n < 2:\n",
    "        return -1, -1  # Return -1 if the array has less than 2 elements\n",
    "    \n",
    "    # Sort the array\n",
    "    arr.sort()\n",
    "    \n",
    "    second_smallest = arr[1]\n",
    "    second_largest = arr[-2]\n",
    "    \n",
    "    return second_smallest, second_largest\n",
    "\n",
    "# Example usage\n",
    "arr1 = [1, 2, 4, 7, 7, 5]\n",
    "arr2 = [1]\n",
    "print(\"Second Smallest:\", second_smallest_and_largest(arr1)[0])  # Output: 2\n",
    "print(\"Second Largest:\", second_smallest_and_largest(arr1)[1])   # Output: 5\n",
    "\n",
    "print(\"Second Smallest:\", second_smallest_and_largest(arr2)[0])  # Output: -1\n",
    "print(\"Second Largest:\", second_smallest_and_largest(arr2)[1])   # Output: -1\n"
   ]
  },
  {
   "cell_type": "code",
   "execution_count": 1,
   "id": "cfe8eeed-b0f0-4c7c-aa85-b3761f495d67",
   "metadata": {},
   "outputs": [
    {
     "name": "stdout",
     "output_type": "stream",
     "text": [
      "[1, 2, 3, 4, 5]\n"
     ]
    }
   ],
   "source": [
    "'''\n",
    "Que4\n",
    "Problem Statement: You are given an array. The task is to reverse the array and print it. \n",
    "Example 1:\n",
    "Input: N = 5, arr[] = {5,4,3,2,1}\n",
    "Output: {1,2,3,4,5}\n",
    "Explanation: Since the order of elements gets reversed the first element will occupy the fifth position, the second element\n",
    "occupies the fourth position and so on.\n",
    "\n",
    "Example 2:\n",
    "Input: N=6 arr[] = {10,20,30,40}\n",
    "Output: {40,30,20,10}\n",
    "Explanation: Since the order of elements gets reversed the first element will occupy the fifth position, the second element \n",
    "occupies the fourth position and so on\n",
    "'''\n",
    "arr=[5,4,3,2,1]\n",
    "start=0\n",
    "end=len(arr)-1\n",
    "while(start<=end):\n",
    "    arr[start],arr[end]=arr[end],arr[start]\n",
    "    start+=1\n",
    "    end-=1\n",
    "print(arr)"
   ]
  },
  {
   "cell_type": "code",
   "execution_count": 2,
   "id": "8cdaae35-70f7-49df-a540-38fb2a226443",
   "metadata": {},
   "outputs": [
    {
     "name": "stdout",
     "output_type": "stream",
     "text": [
      "10 3\n",
      "5 2\n",
      "15 1\n"
     ]
    }
   ],
   "source": [
    "'''\n",
    "Que5\n",
    "Problem statement: Given an array, we have found the number of occurrences of each element in the array\n",
    "Example 1:\n",
    "Input: arr[] = {10,5,10,15,10,5};\n",
    "Output: 10  3\n",
    "\t 5  2\n",
    "        15  1\n",
    "Explanation: 10 occurs 3 times in the array\n",
    "\t      5 occurs 2 times in the array\n",
    "              15 occurs 1 time in the array\n",
    "\n",
    "Example2: \n",
    "Input: arr[] = {2,2,3,4,4,2};\n",
    "Output: 2  3\n",
    "\t3  1\n",
    "        4  2\n",
    "Explanation: 2 occurs 3 times in the array\n",
    "\t     3 occurs 1 time in the array\n",
    "             4 occurs 2 time in the array\n",
    "'''\n",
    "arr=[10,5,10,15,10,5]\n",
    "dict={}\n",
    "for i in arr:\n",
    "    if i in dict:\n",
    "        dict[i]+=1\n",
    "    else:\n",
    "        dict[i]=1\n",
    "for i,j in dict.items():\n",
    "    print(i,j)"
   ]
  },
  {
   "cell_type": "code",
   "execution_count": 1,
   "id": "6e786407-8ffa-4db2-a03b-642e7b0ae237",
   "metadata": {},
   "outputs": [
    {
     "name": "stdout",
     "output_type": "stream",
     "text": [
      "[1, 7, 8, 9, 6, 5]\n"
     ]
    }
   ],
   "source": [
    "'''\n",
    "Que6\n",
    "Problem Statement: Rearrange the array such that the first half is arranged in increasing order, and the second half is arranged in decreasing order\n",
    "\n",
    "Examples:\n",
    "\n",
    "Example 1:\n",
    "Input: 8 7 1 6 5 9\n",
    "Output: 1 5 6 9 8 7\n",
    "Explanation: First three elements are in the ascending order and next three elements are in the descending order.\n",
    "\n",
    "Example 2:\n",
    "Input: 4 2 8 6 15 5 9 20\n",
    "Output: 2 4 5 6 20 15 9 8\n",
    "'''\n",
    "arr=[8,7,1,6,5,9]\n",
    "mid=len(arr)//2\n",
    "first_half = arr[:mid]\n",
    "second_half = arr[mid:]\n",
    "first_half.sort()\n",
    "second_half.sort(reverse=True)\n",
    "rearranged_array = first_half + second_half\n",
    "print(rearranged_array)"
   ]
  },
  {
   "cell_type": "code",
   "execution_count": null,
   "id": "7b3a5d77-3789-4e9e-a77a-6feb1c9115d2",
   "metadata": {},
   "outputs": [],
   "source": [
    "'''\n",
    "Que8\n",
    "Problem Statement: Given an array of n size, rotate the array by k elements using the Block Swap Algorithm.\n",
    "\n",
    "Examples:\n",
    "\n",
    "Example 1:\n",
    "Input: N = 5, array[] = {1,2,3,4,5} K=2\n",
    "Output: {3,4,5,1,2}\n",
    "Explanation: Rotate the array to right by 2 elements.\n",
    "\n",
    "Example 2:\n",
    "Input: N = 7, array[] = {1,2,3,4,5,6,7} K=3\n",
    "Output: {4,5,6,7,1,2,3}\n",
    "Explanation: Rotate the array to right by 3 elements.\n",
    "'''\n"
   ]
  },
  {
   "cell_type": "code",
   "execution_count": 2,
   "id": "d9aa6139-6be5-4a8d-b7b3-04143bbfb02d",
   "metadata": {},
   "outputs": [
    {
     "name": "stdout",
     "output_type": "stream",
     "text": [
      "15\n"
     ]
    }
   ],
   "source": [
    "'''\n",
    "Que7\n",
    "Problem Statement: Given an array, we have to find the sum of all the elements in the array.\n",
    "Example 1:\n",
    "Input: N = 5, array[] = {1,2,3,4,5}\n",
    "Output: 15\n",
    "Explanation: Sum of all the elements is 1+2+3+4+5 = 15\n",
    "\n",
    "Example 2:\n",
    "Input:  N=6, array[] = {1,2,1,1,5,1}\n",
    "Output: 11\n",
    "Explanation: Sum of all the elements is 1+2+1+1+5+1 = 11\n",
    "'''\n",
    "arr=[1,2,3,4,5]\n",
    "sum=0\n",
    "for i in range(len(arr)):\n",
    "    sum+=arr[i]\n",
    "print(sum)"
   ]
  },
  {
   "cell_type": "code",
   "execution_count": 8,
   "id": "fc0b7029-cdf2-4da1-bb62-6d61748dd03f",
   "metadata": {},
   "outputs": [
    {
     "name": "stdout",
     "output_type": "stream",
     "text": [
      "3.5\n"
     ]
    }
   ],
   "source": [
    "'''\n",
    "Que10\n",
    "Problem Statement: Given an unsorted array, find the median of the given array.\n",
    "\n",
    "Examples:\n",
    "\n",
    "Example 1:\n",
    "Input: [2,4,1,3,5]\n",
    "Output: 3\n",
    "\n",
    "Example 2:\n",
    "Input: [2,5,1,7]\n",
    "Output: 3.5\n",
    "'''\n",
    "arr = [2, 5, 1, 7]\n",
    "n = len(arr)\n",
    "arr.sort()\n",
    "\n",
    "median = 0\n",
    "if n % 2 == 0:\n",
    "    mid1 = n // 2 - 1\n",
    "    mid2 = n // 2\n",
    "    median = (arr[mid1] + arr[mid2]) / 2  # Taking the average of two middle elements\n",
    "else:\n",
    "    median_index = n // 2\n",
    "    median = arr[median_index]\n",
    "\n",
    "print(median)"
   ]
  },
  {
   "cell_type": "code",
   "execution_count": 5,
   "id": "c2ce3f05-66d9-4a85-b861-7a7bf4be70de",
   "metadata": {},
   "outputs": [
    {
     "name": "stdout",
     "output_type": "stream",
     "text": [
      "3\n"
     ]
    }
   ],
   "source": [
    "'''\n",
    "Que9\n",
    "Problem Statement: Given an array, we have to find the average of all the elements in the array.\n",
    "Example 1:\n",
    "Input: N = 5, array[] = {1,2,3,4,5}\n",
    "Output: 3\n",
    "Explanation: Average is the sum of all the elements divided by number of elements.Therefore (1+2+3+4+5)/5 = 3.\n",
    "\n",
    "Example 2:\n",
    "Input:  N=6, array[] = {1,2,1,1,5,1}\n",
    "Output: 1.8\n",
    "Explanation: Average is the sum of all the elements divided by number of elements.Therefore (1+2+1+1+5+1)/6 = 1.8\n",
    "'''\n",
    "arr=[1,2,3,4,5]\n",
    "s=0\n",
    "for i in arr:\n",
    "    s+=i\n",
    "avg=s//len(arr)\n",
    "print(avg)"
   ]
  },
  {
   "cell_type": "code",
   "execution_count": 4,
   "id": "b455ac0f-91a5-47d1-a285-4f0560e58db3",
   "metadata": {},
   "outputs": [
    {
     "name": "stdout",
     "output_type": "stream",
     "text": [
      "Output array: [1, 2, 3] k = 3\n",
      "Output array: [1, 2, 3, 4] k = 4\n"
     ]
    }
   ],
   "source": [
    "'''\n",
    "Que11 Problem Statement: Given an integer array sorted in non-decreasing order, remove the duplicates in place such \n",
    "that each unique element appears only once. The relative order of the elements should be kept the same.\n",
    "If there are k elements after removing the duplicates, then the first k elements of the array should hold the \n",
    "final result. It does not matter what you leave beyond the first k elements.\n",
    "\n",
    "Note: Return k after placing the final result in the first k slots of the array.\n",
    "\n",
    "Examples\n",
    "Example 1:\n",
    "Input:\n",
    " arr[1,1,2,2,2,3,3]\n",
    "\n",
    "Output:\n",
    " arr[1,2,3,_,_,_,_]\n",
    "\n",
    "Explanation:\n",
    " Total number of unique elements are 3, i.e[1,2,3] and Therefore return 3 after assigning [1,2,3] \n",
    " in the beginning of the array.\n",
    "\n",
    "Example 2:\n",
    "Input:\n",
    " arr[1,1,1,2,2,3,3,3,3,4,4]\n",
    "\n",
    "Output:\n",
    " arr[1,2,3,4,_,_,_,_,_,_,_]\n",
    "\n",
    "Explanation:\n",
    " Total number of unique elements are 4, i.e[1,2,3,4] and Therefore return 4 after assigning [1,2,3,4] in \n",
    "the beginning of the array.\n",
    "'''\n",
    "def remove_duplicates(arr):\n",
    "    if not arr:\n",
    "        return 0\n",
    "    \n",
    "    # Pointer for the position of the next unique element\n",
    "    write_index = 0\n",
    "    \n",
    "    # Iterate through the array starting from the second element\n",
    "    for i in range(1, len(arr)):\n",
    "        if arr[i] != arr[write_index]:\n",
    "            write_index += 1\n",
    "            arr[write_index] = arr[i]\n",
    "    \n",
    "    # Return the number of unique elements\n",
    "    return write_index + 1\n",
    "\n",
    "# Example usage\n",
    "arr1 = [1, 1, 2, 2, 2, 3, 3]\n",
    "k1 = remove_duplicates(arr1)\n",
    "print(\"Output array:\", arr1[:k1], \"k =\", k1)\n",
    "\n",
    "arr2 = [1, 1, 1, 2, 2, 3, 3, 3, 3, 4, 4]\n",
    "k2 = remove_duplicates(arr2)\n",
    "print(\"Output array:\", arr2[:k2], \"k =\", k2)\n"
   ]
  },
  {
   "cell_type": "code",
   "execution_count": 8,
   "id": "a373f3f7-b216-47f2-b0ae-19a467a0b7a0",
   "metadata": {},
   "outputs": [
    {
     "name": "stdout",
     "output_type": "stream",
     "text": [
      "[1, 2, 3, 9]\n"
     ]
    }
   ],
   "source": [
    "'''\n",
    "Que12\n",
    "Problem Statement: Given an unsorted array, remove duplicates from the array.\n",
    "Example 1:\n",
    "Input: arr[]={2,3,1,9,3,1,3,9}\n",
    "Output:  {2,3,1,9}\n",
    "\n",
    "Explanation: Removed all the duplicate elements\n",
    "\n",
    "Example 2:\n",
    "Input: arr[]={4,3,9,2,4,1,10,89,34}\n",
    "Output: {3,4,9,2,1,10,34,89}\n",
    "Explanation: Removed all the duplicate elements\n",
    "'''\n",
    "arr=[2,3,1,9,3,1,3,9]\n",
    "s=set()\n",
    "for i in arr:\n",
    "    s.add(i)\n",
    "print(list(s))"
   ]
  },
  {
   "cell_type": "code",
   "execution_count": null,
   "id": "0b6e6e5c-4050-4ea2-8483-625745b99240",
   "metadata": {},
   "outputs": [],
   "source": [
    "'''\n",
    "Que13\n",
    "Problem Statement: Given an array of N integers, write a program to add an array element at the beginning, end, and \n",
    "at a specific position.\n",
    "\n",
    "Example:\n",
    "Input: N = 5, array[] = {1,2,3,4,5}\n",
    "insertbeginning(6)\n",
    "insertending(7)\n",
    "insertatpos(8,4)\n",
    "Output: 6,1,2,8,3,4,5,7\n",
    "Explanation: 6 is added at the beginning and 7 is added at the end and 8 is added at position 4 \n",
    "\n",
    "'''\n",
    "\n",
    "def insert_beginning(arr,index,ele):\n",
    "    arr[index]=ele\n",
    "    return arr\n",
    "def insert_end(arr,index,ele):\n",
    "    arr[index]=ele\n",
    "    return arr\n",
    "def insert_specific(arr,index,ele):\n",
    "    arr[index]=ele\n",
    "    return arr\n",
    "\n",
    "arr=[1,2,3,4,5]\n",
    "while(True):\n",
    "    print('''\n",
    "    1.To insert element at beginning\n",
    "    2.To insert element at end\n",
    "    3.To insert element at specific position\n",
    "    4.To exit\n",
    "    ''')\n",
    "    choice=int(input(\"Enter your choice\"))\n",
    "    element=int(input(\"Enter element\"))\n",
    "    if choice==1:\n",
    "        print(insert_beginning(arr,0,element))\n",
    "    \n",
    "    elif choice==2:\n",
    "        print(insert_end(arr,len(arr)-1,element))\n",
    "    \n",
    "    elif choice==3:\n",
    "        try:\n",
    "                pos=int(input(\"Enter a position\"))\n",
    "                if pos>=len(arr):\n",
    "                    raise Exception(\"Enter position within range\")\n",
    "                else:\n",
    "                    print(insert_specific(arr,pos,element))\n",
    "        except Exception as e:\n",
    "                print(e)\n",
    "                \n",
    "    elif choice==4:\n",
    "        break\n",
    "    else:\n",
    "        print(\"Enter a valid choice\")"
   ]
  },
  {
   "cell_type": "code",
   "execution_count": 14,
   "id": "016d9e16-2c55-49f3-b543-dcec9ee200ef",
   "metadata": {},
   "outputs": [
    {
     "name": "stdout",
     "output_type": "stream",
     "text": [
      "1\n",
      "2\n",
      "4\n"
     ]
    }
   ],
   "source": [
    "'''\n",
    "Que14\n",
    "Problem Statement: Find all the repeating elements present in an array.\n",
    "Example 1:\n",
    "Input: \n",
    "Arr[] = [1,1,2,3,4,4,5,2]\n",
    "Output:\n",
    " 1,2,4\n",
    "Explanation:\n",
    " 1,2 and 4 are the elements which are occurring more than once.\n",
    "\n",
    "Example 2:\n",
    "Input:\n",
    " Arr[] = [1,1,0]\n",
    "Output:\n",
    " 1\n",
    "Explanation:\n",
    " Only 1 is occurring more than once in the given array.\n",
    "'''\n",
    "\n",
    "arr=[1,1,2,3,4,4,5,2]\n",
    "dict={}\n",
    "for i in arr:\n",
    "    if i in  dict:\n",
    "        dict[i]+=1\n",
    "    else:\n",
    "        dict[i]=1\n",
    "for i,j in dict.items():\n",
    "    if j>1:\n",
    "        print(i)\n"
   ]
  },
  {
   "cell_type": "code",
   "execution_count": null,
   "id": "36879847-62c8-476e-98c7-2171f69b8d4e",
   "metadata": {},
   "outputs": [],
   "source": [
    "'''\n",
    "Que15 Problem Statement: Find all the non-repeating elements for a given array. Outputs can be in any order.\n",
    "\n",
    "Example 1:\n",
    "Input:\n",
    " Nums = [1,2,-1,1,3,1]\n",
    "Output:\n",
    " 2,-1,3\n",
    " \n",
    "Explanation:\n",
    "1 is the only element in the given array which occurs thrice in the array. -1,2,3 occurs only once and hence, these\n",
    "are non-repeating elements of the given array.\n",
    "\n",
    "Example 2:\n",
    "Input:\n",
    " Nums = [1,2,3]\n",
    " \n",
    "Output:\n",
    " 1,2,3\n",
    " \n",
    "Explanation:\n",
    " All elements present in the array occur once. Hence, every element is non-repeating.\n",
    "''' \n",
    "dict={}\n",
    "arr=[1,2,-1,1,3,1]\n",
    "for i in arr:\n",
    "    if i in dict:\n",
    "        dict[i]+=1\n",
    "    else:\n",
    "        dict[i]=1\n",
    "for i,j in dict.items():\n",
    "    if j==1:\n",
    "        print(i)\n",
    "        "
   ]
  },
  {
   "cell_type": "code",
   "execution_count": 5,
   "id": "35f4eacf-5cda-4d4c-8360-cef6ad971ded",
   "metadata": {},
   "outputs": [
    {
     "name": "stdout",
     "output_type": "stream",
     "text": [
      "Symmetric pairs: [(2, 1), (5, 4)]\n",
      "Symmetric pairs: [(5, 1), (2, 4)]\n"
     ]
    }
   ],
   "source": [
    "'''\n",
    "Que16 Problem Statement: Given an array of pairs, find all the symmetric pairs in the array.\n",
    "Example 1:\n",
    "Input: (1,2),(2,1),(3,4),(4,5),(5,4)\n",
    "Output: (2,1) (5,4)\n",
    "Explanation: Since (1,2) and (2,1) are symmetric pairs and (4,5) and (5,4) are symmetric pairs.\n",
    "\n",
    "Example 2:\n",
    "Input: (1,5),(2,3),(4,2),(5,1),(2,4)\n",
    "Output: (2,4) (5,1)\n",
    "Explanation: Since (1,5) and (2,4) are symmetric pairs and (5,1) and (4,2) are symmetric pairs.\n",
    "'''\n",
    "def find_symmetric_pairs(pairs):\n",
    "    # Dictionary to store pairs\n",
    "    pair_dict = {}\n",
    "    symmetric_pairs = []\n",
    "\n",
    "    for a, b in pairs:\n",
    "        # Check if (b, a) exists in the dictionary\n",
    "        if b in pair_dict and pair_dict[b] == a:\n",
    "            symmetric_pairs.append((a, b))\n",
    "        else:\n",
    "            pair_dict[a] = b\n",
    "    \n",
    "    return symmetric_pairs\n",
    "\n",
    "# Example usage\n",
    "pairs1 = [(1, 2), (2, 1), (3, 4), (4, 5), (5, 4)]\n",
    "symmetric_pairs1 = find_symmetric_pairs(pairs1)\n",
    "print(\"Symmetric pairs:\", symmetric_pairs1)\n",
    "\n",
    "pairs2 = [(1, 5), (2, 3), (4, 2), (5, 1), (2, 4)]\n",
    "symmetric_pairs2 = find_symmetric_pairs(pairs2)\n",
    "print(\"Symmetric pairs:\", symmetric_pairs2)\n"
   ]
  },
  {
   "cell_type": "code",
   "execution_count": 8,
   "id": "78db896c-19b9-4ce1-b775-eced71a048e0",
   "metadata": {},
   "outputs": [
    {
     "name": "stdout",
     "output_type": "stream",
     "text": [
      "Maximum product subarray: 120\n",
      "Maximum product subarray: 20\n"
     ]
    }
   ],
   "source": [
    "'''\n",
    "Que17\n",
    "Problem Statement: Given an array that contains both negative and positive integers, find the maximum product subarray.\n",
    "\n",
    "Examples\n",
    "Example 1:\n",
    "Input:\n",
    "\n",
    " Nums = [1,2,3,4,5,0]\n",
    "Output:\n",
    "\n",
    " 120\n",
    "Explanation:\n",
    "\n",
    " In the given array, we can see 1×2×3×4×5 gives maximum product value.\n",
    "\n",
    "\n",
    "Example 2:\n",
    "Input:\n",
    " Nums = [1,2,-3,0,-4,-5]\n",
    "Output:\n",
    "\n",
    " 20\n",
    "Explanation:\n",
    "\n",
    " In the given array, we can see (-4)×(-5) gives maximum product value.\n",
    "'''\n",
    "def max_product_subarray(nums):\n",
    "    if not nums:\n",
    "        return 0\n",
    "    \n",
    "    max_product = nums[0]\n",
    "    min_product = nums[0]\n",
    "    result = nums[0]\n",
    "    \n",
    "    for num in nums[1:]:\n",
    "        if num < 0:\n",
    "            max_product, min_product = min_product, max_product\n",
    "        \n",
    "        max_product = max(num, max_product * num)\n",
    "        min_product = min(num, min_product * num)\n",
    "        \n",
    "        result = max(result, max_product)\n",
    "    \n",
    "    return result\n",
    "\n",
    "# Example usage\n",
    "nums1 = [1, 2, 3, 4, 5, 0]\n",
    "print(\"Maximum product subarray:\", max_product_subarray(nums1))  # Output: 120\n",
    "\n",
    "nums2 = [1, 2, -3, 0, -4, -5]\n",
    "print(\"Maximum product subarray:\", max_product_subarray(nums2))  # Output: 20\n"
   ]
  },
  {
   "cell_type": "code",
   "execution_count": 2,
   "id": "7332c355-6679-407b-bf68-bc7b749b7ab8",
   "metadata": {},
   "outputs": [],
   "source": [
    "'''\n",
    "Que18\n",
    "Example 1:\n",
    "Input: 20 15 26 2 98 6\n",
    "Output: 4 3 5 1 6 2\n",
    "Explanation: When sorted,the array is 2,6,15,20,26,98. So the rank of 2 is 1,rank of 6 is 2,rank of 15 is 3 and so…\n",
    "\n",
    "Example 2:\n",
    "Input: 1 5 8 15 8 25 9\n",
    "Output: 1 2 3 5 3 6 4\n",
    "Explanation: When sorted,the array is 1,5,8,8,9,15,25. So the rank of 1 is 1,rank of 5 is 2,rank of 8 is 3 and so…\n",
    "'''\n",
    "def replace_with_rank(arr):\n",
    "    # Create a copy of the input array\n",
    "    sorted_arr = sorted(arr)\n",
    "    \n",
    "    # Create a dictionary to store element-rank pairs\n",
    "    rank_map = {}\n",
    "    rank = 1\n",
    "    for num in sorted_arr:\n",
    "        if num not in rank_map:\n",
    "            rank_map[num] = rank\n",
    "            rank += 1\n",
    "    \n",
    "    # Replace each element with its rank\n",
    "    for i in range(len(arr)):\n",
    "        arr[i] = rank_map[arr[i]]\n",
    "    \n",
    "    return arr\n",
    "\n",
    "# Example 1\n",
    "arr1 = [20, 15, 26, 2, 98, 6]"
   ]
  },
  {
   "cell_type": "code",
   "execution_count": 12,
   "id": "21ad679d-35df-4f41-b076-3e38baabee20",
   "metadata": {},
   "outputs": [
    {
     "name": "stdout",
     "output_type": "stream",
     "text": [
      "[3, 1, 2, 1]\n"
     ]
    }
   ],
   "source": [
    "'''\n",
    "Que19\n",
    "Problem Statement: Given an array of N integers, the task is to replace each element of the array by its rank in the array.\n",
    "Example 1:\n",
    "Input: 20 15 26 2 98 6\n",
    "Output: 4 3 5 1 6 2\n",
    "Explanation: When sorted,the array is 2,6,15,20,26,98. So the rank of 2 is 1,rank of 6 is 2,rank of 15 is 3 and so…\n",
    "\n",
    "Example 2:\n",
    "Input: 1 5 8 15 8 25 9\n",
    "Output: 1 2 3 5 3 6 4\n",
    "Explanation: When sorted,the array is 1,5,8,8,9,15,25. So the rank of 1 is 1,rank of 5 is 2,rank of 8 is 3 and so…\n",
    "'''\n",
    "# Python3 program for the above approach \n",
    "\n",
    "# Function to assign rank to \n",
    "# array elements \n",
    "def changeArr(input1): \n",
    "\n",
    "\t# Copy input array into newArray \n",
    "\tnewArray = input1.copy() \n",
    "\t\n",
    "\t# Sort newArray[] in ascending order \n",
    "\tnewArray.sort() \n",
    "\t\n",
    "\t# Dictionary to store the rank of \n",
    "\t# the array element \n",
    "\tranks = {} \n",
    "\t\n",
    "\trank = 1\n",
    "\t\n",
    "\tfor index in range(len(newArray)): \n",
    "\t\telement = newArray[index]; \n",
    "\t\n",
    "\t\t# Update rank of element \n",
    "\t\tif element not in ranks: \n",
    "\t\t\tranks[element] = rank \n",
    "\t\t\trank += 1\n",
    "\t\t\n",
    "\t# Assign ranks to elements \n",
    "\tfor index in range(len(input1)): \n",
    "\t\telement = input1[index] \n",
    "\t\tinput1[index] = ranks[input1[index]] \n",
    "\n",
    "# Driver Code \n",
    "if __name__ == \"__main__\": \n",
    "\t\n",
    "\t# Given array arr[] \n",
    "\tarr = [ 100, 2, 70, 2 ] \n",
    "\t\n",
    "\t# Function call \n",
    "\tchangeArr(arr) \n",
    "\t\n",
    "\t# Print the array elements \n",
    "\tprint(arr) \n",
    "\n",
    "# This code is contributed by chitranayal \n",
    "\n"
   ]
  },
  {
   "cell_type": "code",
   "execution_count": 13,
   "id": "9edfcb68-30a5-4f99-af51-466a1b0c48e4",
   "metadata": {},
   "outputs": [
    {
     "name": "stdout",
     "output_type": "stream",
     "text": [
      "Output: [6, 7, 1, 2, 3, 4, 5]\n",
      "Output: [9, 10, 11, 3, 7, 8]\n"
     ]
    }
   ],
   "source": [
    "'''\n",
    "Que20\n",
    "Problem Statement: Given an array of integers, rotating array of elements by k elements either left or right.\n",
    "\n",
    "Examples:\n",
    "\n",
    "Example 1:\n",
    "Input: N = 7, array[] = {1,2,3,4,5,6,7} , k=2 , right\n",
    "Output: 6 7 1 2 3 4 5\n",
    "Explanation: array is rotated to right by 2 position .\n",
    "\n",
    "Example 2:\n",
    "Input: N = 6, array[] = {3,7,8,9,10,11} , k=3 , left \n",
    "Output: 9 10 11 3 7 8\n",
    "Explanation: Array is rotated to right by 3 position.\n",
    "'''\n",
    "def rotate_array(arr, k, direction):\n",
    "    N = len(arr)\n",
    "    k = k % N  # Normalize k\n",
    "\n",
    "    if direction == 'right':\n",
    "        # Split and concatenate for right rotation\n",
    "        return arr[-k:] + arr[:-k]\n",
    "    elif direction == 'left':\n",
    "        # Split and concatenate for left rotation\n",
    "        return arr[k:] + arr[:k]\n",
    "    else:\n",
    "        raise ValueError(\"Invalid direction. Use 'left' or 'right'.\")\n",
    "\n",
    "# Example usage\n",
    "arr1 = [1, 2, 3, 4, 5, 6, 7]\n",
    "k1 = 2\n",
    "direction1 = 'right'\n",
    "print(\"Output:\", rotate_array(arr1, k1, direction1))  # Output: [6, 7, 1, 2, 3, 4, 5]\n",
    "\n",
    "arr2 = [3, 7, 8, 9, 10, 11]\n",
    "k2 = 3\n",
    "direction2 = 'left'\n",
    "print(\"Output:\", rotate_array(arr2, k2, direction2))  # Output: [9, 10, 11, 3, 7, 8]\n"
   ]
  },
  {
   "cell_type": "code",
   "execution_count": 16,
   "id": "6c9320a6-4874-4878-b8dd-838f927b47f0",
   "metadata": {},
   "outputs": [
    {
     "name": "stdout",
     "output_type": "stream",
     "text": [
      "Equilibrium index: 3\n",
      "Equilibrium index: 2\n"
     ]
    }
   ],
   "source": [
    "'''\n",
    "Que21\n",
    "Problem Statement: Finding Equilibrium index in an array\n",
    "\n",
    "Given a 0-indexed integer array nums, find the leftmost equilibrium Index.\n",
    "\n",
    "An equilibrium Index is an index at which sum of elements on its left is equal to the sum of element on its right. That is, nums[0] + nums[1] + ... + nums[equilibriumIndex-1] == nums[equilibriumIndex+1] + nums[equilibriumIndex+2] + ... + nums[nums.length-1]. If equilibriumIndex == 0, the left side sum is considered to be 0. Similarly, if equilibriumIndex == nums.length - 1, the right side sum is considered to be 0.\n",
    "\n",
    "Return the leftmost equilibrium Index that satisfies the condition, or -1 if there is no such index.\n",
    "\n",
    "Examples:\n",
    "\n",
    "Example 1:\n",
    "Input: nums = [2,3,-1,8,4]\n",
    "Output: 3\n",
    "Explanation: The sum of the numbers before index 3 is: 2 + 3 + -1 = 4\n",
    "The sum of the numbers after index 3 is: 4 = 4\n",
    "\n",
    "Example 2:\n",
    "Input: nums = [1,-1,4]\n",
    "Output: 2\n",
    "Explanation: The sum of the numbers before index 2 is: 1 + -1 = 0\n",
    "The sum of the numbers after index 2 is: 0\n",
    "'''\n",
    "def find_equilibrium_index(nums):\n",
    "    total_sum = sum(nums)\n",
    "    left_sum = 0\n",
    "\n",
    "    for i, num in enumerate(nums):\n",
    "        right_sum = total_sum - left_sum - num\n",
    "        \n",
    "        if left_sum == right_sum:\n",
    "            return i\n",
    "        \n",
    "        left_sum += num\n",
    "    \n",
    "    return -1\n",
    "\n",
    "# Example usage\n",
    "nums1 = [2, 3, -1, 8, 4]\n",
    "print(\"Equilibrium index:\", find_equilibrium_index(nums1))  # Output: 3\n",
    "\n",
    "nums2 = [1, -1, 4]\n",
    "print(\"Equilibrium index:\", find_equilibrium_index(nums2))  # Output: 2\n"
   ]
  },
  {
   "cell_type": "code",
   "execution_count": 4,
   "id": "b31a8c80-9fe4-422e-91ce-ec8acc8ec6ac",
   "metadata": {},
   "outputs": [
    {
     "name": "stdout",
     "output_type": "stream",
     "text": [
      "True\n"
     ]
    }
   ],
   "source": [
    "'''\n",
    "Que24\n",
    "Write a program to find whether an array is a subset of another array or not.\n",
    "Given arr1[] and arr2[], we need to find whether arr1[] is a subset of arr2[]. An array is called a subset of another \n",
    "if all of its elements are present in the other array.\n",
    "\n",
    "Example 1:\n",
    "Input: arr1[]= [1,3,4,5,2]\n",
    "       arr2[]= [2,4,3,1,7,5,15]\n",
    "Output: arr1[] is a subset of arr2[]\n",
    "\n",
    "Example 2:\n",
    "Input: arr1[]= [1,3,4,5,2]\n",
    "       arr2[]= [4,5,2]\n",
    "Output: arr1[] is not a subset of arr2[]\n",
    "\n",
    "Example 3:\n",
    "Input: arr1[]= [1,3,4,5,2]\n",
    "       arr2[]= [11,12,13,15,16]\n",
    "Output: arr1[] is not a subset of arr2[]\n",
    "'''\n",
    "issubset=True\n",
    "arr1= [1,3,4,5,2]\n",
    "arr2= [2,4,3,1,7,5,15]\n",
    "for i in arr1:\n",
    "    if i not in arr2:\n",
    "        issubset=False\n",
    "        break\n",
    "if issubset:\n",
    "    print(True)\n",
    "else:\n",
    "    print(False)"
   ]
  },
  {
   "cell_type": "code",
   "execution_count": 1,
   "id": "2a53687b-0def-4f1b-8a7f-9d1213154fbb",
   "metadata": {},
   "outputs": [
    {
     "name": "stdout",
     "output_type": "stream",
     "text": [
      "Array already sorted\n",
      "[1, 2, 3, 4, 5]\n"
     ]
    }
   ],
   "source": [
    "#Sorting\n",
    "'''\n",
    "Que1 Problem Statement: Given an array of N integers, write a program to implement the Bubble Sorting algorithm.\n",
    "Example 1:\n",
    "Input: N = 6, array[] = {13,46,24,52,20,9}\n",
    "Output: 9,13,20,24,46,52\n",
    "Explanation: After sorting we get 9,13,20,24,46,52\n",
    "\n",
    "\n",
    "Input: N = 5, array[] = {5,4,3,2,1}\n",
    "Output: 1,2,3,4,5\n",
    "Explanation: After sorting we get 1,2,3,4,5\n",
    "'''\n",
    "arr=[1,2,3,4,5]\n",
    "N=5\n",
    "is_sorted=True\n",
    "for i in range(0,N-1):\n",
    "    for j in range(0,N-1):\n",
    "        if arr[j]>arr[j+1]:\n",
    "            is_sorted=False\n",
    "            arr[j],arr[j+1]=arr[j+1],arr[j]\n",
    "    if is_sorted:\n",
    "        print(\"Array already sorted\")\n",
    "        break\n",
    "print(arr)"
   ]
  },
  {
   "cell_type": "code",
   "execution_count": 1,
   "id": "e1e3885f-38bf-4dcf-9cdd-998f54a811e0",
   "metadata": {},
   "outputs": [
    {
     "name": "stdout",
     "output_type": "stream",
     "text": [
      "[67, 67, 67, 41, 67]\n"
     ]
    }
   ],
   "source": [
    "'''\n",
    "Que2\n",
    "Problem Statement: Given an array of N integers, write a program to implement the Selection sorting algorithm.\n",
    "Example 1:\n",
    "Input: N = 6, array[] = {13,46,24,52,20,9}\n",
    "Output: 9,13,20,24,46,52\n",
    "Explanation: After sorting the array is: 9, 13, 20, 24, 46, 52\n",
    "\n",
    "Example 2:\n",
    "Input: N=5, array[] = {5,4,3,2,1}\n",
    "Output: 1,2,3,4,5\n",
    "Explanation: After sorting the array is: 1, 2, 3, 4, 5\n",
    "'''\n",
    "def selection_sort(arr,size):\n",
    "    for i in range(0,size-1):\n",
    "        min_index=i\n",
    "        for j in range(i+1,size):\n",
    "            if arr[min_index]>arr[j]:\n",
    "                min_index=j\n",
    "        arr[i],arr[min_index]=arr[j],arr[i]\n",
    "    return arr\n",
    "\n",
    "print(selection_sort([23,41,12,1,67],5))"
   ]
  },
  {
   "cell_type": "code",
   "execution_count": 5,
   "id": "2ee162b7-ae4c-4d8c-8142-f3a36aecea11",
   "metadata": {},
   "outputs": [
    {
     "name": "stdout",
     "output_type": "stream",
     "text": [
      "[13, 27, 50, 62, 65, 70, 80, 98]\n"
     ]
    }
   ],
   "source": [
    "'''\n",
    "Que3 Insertion Sort\n",
    "'''\n",
    "def Insertion_Sort(arr):\n",
    "    for i in range(1, len(arr)):\n",
    "        v = arr[i]\n",
    "        j = i\n",
    "        while j > 0 and arr[j - 1] > v:\n",
    "            arr[j] = arr[j - 1]\n",
    "            j = j - 1\n",
    "        arr[j] = v\n",
    "    return arr\n",
    "\n",
    "arr = [50, 70, 65, 13, 80, 62, 98, 27]\n",
    "print(Insertion_Sort(arr))\n"
   ]
  },
  {
   "cell_type": "code",
   "execution_count": 7,
   "id": "40c8e7e4-c802-4c32-8bc5-a63c981a0737",
   "metadata": {},
   "outputs": [
    {
     "name": "stdout",
     "output_type": "stream",
     "text": [
      "[12, 29, 34, 46, 50, 56, 70, 78]\n"
     ]
    }
   ],
   "source": [
    "'''\n",
    "Que4 Quick Sort\n",
    "'''\n",
    "def partition(arr,p,q):\n",
    "    pivot=arr[p]\n",
    "    i=p\n",
    "    for j in range(i+1,q+1):\n",
    "        if arr[j]<=pivot:\n",
    "            i+=1\n",
    "            arr[i],arr[j]=arr[j],arr[i]\n",
    "    arr[i],arr[p]=arr[p],arr[i]\n",
    "    return i\n",
    "def quickSort(arr,p,q):\n",
    "    if p<q:\n",
    "        mid=partition(arr,p,q)\n",
    "        quickSort(arr,p,mid-1)\n",
    "        quickSort(arr,mid+1,q)\n",
    "    return arr\n",
    "arr=[50,70,29,56,78,12,34,46 ]\n",
    "p=0\n",
    "q=len(arr)-1\n",
    "result=quickSort(arr,p,q)\n",
    "print(result)"
   ]
  },
  {
   "cell_type": "code",
   "execution_count": 10,
   "id": "69e94501-fe15-41ee-9ec8-aca9a0e21e36",
   "metadata": {},
   "outputs": [
    {
     "name": "stdout",
     "output_type": "stream",
     "text": [
      "[13, 27, 50, 62, 65, 70, 80, 98]\n"
     ]
    }
   ],
   "source": [
    "'''\n",
    "Que5 Merge Sort\n",
    "'''\n",
    "def mergeProcedure(arr,i,mid,j):\n",
    "    #number of elements in left subarray (i,mid)\n",
    "    n1=mid-i+1\n",
    "    #number of elements in left subarray (mid,j)\n",
    "    n2=j-mid\n",
    "    \n",
    "    leftSubarray=[0]*n1\n",
    "    rightSubarray=[0]*n2\n",
    "    \n",
    "    #copying elements from array to subarray\n",
    "    for m in range(n1):\n",
    "        leftSubarray[m]=arr[m+i]\n",
    "        \n",
    "    for n in range(n2):\n",
    "        rightSubarray[n]=arr[mid+1+n]\n",
    "    \n",
    "    p,q=0,0\n",
    "    k=i # i=0\n",
    "    #returning sorted subarray\n",
    "    while p<n1 and q<n2:\n",
    "        if leftSubarray[p]<rightSubarray[q]:\n",
    "            arr[k]=leftSubarray[p]\n",
    "            p+=1\n",
    "        else:\n",
    "            arr[k]=rightSubarray[q]\n",
    "            q+=1     \n",
    "        k+=1\n",
    "    \n",
    "    #copying entire elements from leftSsubarray\n",
    "    while p<n1:\n",
    "        arr[k]=leftSubarray[p]\n",
    "        p+=1\n",
    "        k+=1\n",
    "    #copying entire elements from rightSubarray\n",
    "    while q<n2:\n",
    "        arr[k]=rightSubarray[q]\n",
    "        q+=1\n",
    "        k+=1\n",
    "        \n",
    "            \n",
    "def mergeSort(arr,i,j):\n",
    "    if i<j:\n",
    "        #Divide\n",
    "        mid=i+(j-i)//2\n",
    "        #conquer\n",
    "        \n",
    "        #left subarray\n",
    "        mergeSort(arr,i,mid)\n",
    "        #right subarray\n",
    "        mergeSort(arr,mid+1,j)\n",
    "        \n",
    "        #Combine \n",
    "        mergeProcedure(arr,i,mid,j)\n",
    "    return arr\n",
    "#Driver Code\n",
    "arr=[50,70,65,13,80,62,98,27]\n",
    "i=0\n",
    "j=len(arr)-1\n",
    "result=mergeSort(arr,i,j)\n",
    "print(result)"
   ]
  },
  {
   "cell_type": "code",
   "execution_count": 1,
   "id": "cd37ae03-68fc-4153-b5a7-f4b1c5f27f22",
   "metadata": {},
   "outputs": [],
   "source": [
    "# Numbers"
   ]
  },
  {
   "cell_type": "code",
   "execution_count": null,
   "id": "e9fdcb9a-7882-43f2-9b79-9e63662adc72",
   "metadata": {},
   "outputs": [],
   "source": [
    "#Que1 An integer is considered a palindrome when it reads the same backward as forward.\n",
    "'''\n",
    "Example 1:\n",
    "Input: N = 123\n",
    "Output: Not Palindrome Number\n",
    "Explanation: 123 read backwards is 321.Since these are two different numbers 123 is not a palindrome.\n",
    "\n",
    "Example 2:\n",
    "Input: N =  121 \n",
    "Output: Palindrome Number\n",
    "Explanation: 121 read backwards as 121.Since these are two same numbers 121 is a palindrome.\n",
    "'''\n",
    "n=121\n",
    "num=n\n",
    "no=0\n",
    "while num>0:\n",
    "    rem=num%10\n",
    "    no=no*10+rem\n",
    "    num=n//10\n",
    "\n",
    "if no==n:\n",
    "    print(True)\n",
    "else:\n",
    "    print(False)"
   ]
  },
  {
   "cell_type": "code",
   "execution_count": 5,
   "id": "71291382-1691-49af-b5bc-122d481a9b56",
   "metadata": {},
   "outputs": [
    {
     "name": "stdout",
     "output_type": "stream",
     "text": [
      "[11, 22, 33, 44]\n"
     ]
    }
   ],
   "source": [
    "#Que2\n",
    "'''\n",
    "Problem Statement: Given a range of numbers, find all the palindrome numbers in the range.\n",
    "\n",
    "Note: A palindromic number is a number that remains the same when its digits are reversed.OR  a palindrome is a number that reads the same forward and backward Eg: 121,1221, 2552\n",
    "\n",
    "Examples:\n",
    "\n",
    "Example 1:\n",
    "Input: min = 10 , max = 50\n",
    "Output: 11 22 33 44 \n",
    "Explanation: 11, 22, 33, 44 will remain the same when they read from forward or backward.\n",
    "\n",
    "Example2:\n",
    "Input: min = 100 , max = 150\n",
    "Output: 101 111 121 131 141 \n",
    "Explanation: 11, 22, 33, 44 will remain the same when they read from forward or backward.\n",
    "'''\n",
    "\n",
    "def find_palindromes(min_num, max_num):\n",
    "    palindromes = []\n",
    "    for num in range(min_num, max_num + 1):\n",
    "        st=str(num)\n",
    "        if st== st[::-1]:\n",
    "            palindromes.append(num)\n",
    "    return palindromes\n",
    "\n",
    "# Example usage:\n",
    "min_num = 10\n",
    "max_num = 50\n",
    "print(find_palindromes(min_num, max_num))\n"
   ]
  },
  {
   "cell_type": "code",
   "execution_count": 4,
   "id": "09024f5a-6ac1-4916-8b22-9c2cdaf58c97",
   "metadata": {},
   "outputs": [
    {
     "name": "stdin",
     "output_type": "stream",
     "text": [
      "Enter a number 5\n"
     ]
    },
    {
     "name": "stdout",
     "output_type": "stream",
     "text": [
      "Number is Prime\n"
     ]
    }
   ],
   "source": [
    "#Que3 check if number is prime or not\n",
    "n=int(input(\"Enter a number\"))\n",
    "isPrime=False\n",
    "for i in range(2,n//2):\n",
    "    if n%i==0:\n",
    "        isPrime=True\n",
    "if isPrime:\n",
    "    print(\"Number is not Prime\")\n",
    "else:\n",
    "    print(\"Number is Prime\")"
   ]
  },
  {
   "cell_type": "code",
   "execution_count": 5,
   "id": "4d884e9d-b632-4f8e-aaf3-a3603640d345",
   "metadata": {},
   "outputs": [
    {
     "name": "stdout",
     "output_type": "stream",
     "text": [
      "[2, 3, 5, 7]\n",
      "[11, 13]\n"
     ]
    }
   ],
   "source": [
    "'''\n",
    "Que4\n",
    "Problem Statement: Given a and b, find prime numbers in a given range [a,b], (a and b are included here).\n",
    "\n",
    "Examples:\n",
    "\n",
    "Examples:\n",
    "Input: 2 10\n",
    "Output: 2 3 5 7 \n",
    "Explanation: Prime Numbers b/w 2 and 10 are 2,3,5 and 7.\n",
    "\n",
    "Example 2:\n",
    "Input: 10 16\n",
    "Output: 11 13 \n",
    "Explanation: Prime Numbers b/w 10 and 16 are 11 and 13.\n",
    "'''\n",
    "import math\n",
    "\n",
    "def is_prime(num):\n",
    "    if num <= 1:\n",
    "        return False\n",
    "    if num == 2:\n",
    "        return True\n",
    "    if num % 2 == 0:\n",
    "        return False\n",
    "    for i in range(3, int(math.sqrt(num)) + 1, 2):\n",
    "        if num % i == 0:\n",
    "            return False\n",
    "    return True\n",
    "\n",
    "def find_primes_in_range(a, b):\n",
    "    primes = []\n",
    "    for num in range(a, b + 1):\n",
    "        if is_prime(num):\n",
    "            primes.append(num)\n",
    "    return primes\n",
    "\n",
    "# Example usage:\n",
    "a = 2\n",
    "b = 10\n",
    "print(find_primes_in_range(a, b))\n",
    "\n",
    "a = 10\n",
    "b = 16\n",
    "print(find_primes_in_range(a, b))\n"
   ]
  },
  {
   "cell_type": "code",
   "execution_count": 9,
   "id": "764a8e0f-ea72-48f8-8d6d-178ca0bd74db",
   "metadata": {},
   "outputs": [
    {
     "name": "stdin",
     "output_type": "stream",
     "text": [
      "Enter a number 21\n"
     ]
    },
    {
     "name": "stdout",
     "output_type": "stream",
     "text": [
      "Number is not armstrong\n"
     ]
    }
   ],
   "source": [
    "'''\n",
    "Que5\n",
    "Problem Statement: Given an integer N, return true it is an Armstrong number otherwise return false.\n",
    "An Amrstrong number is a number that is equal to the sum of its own digits each raised to the power of the number of\n",
    "digits.\n",
    "\n",
    "Example 1:\n",
    "Input:N = 153\n",
    "Output:True\n",
    "Explanation: 13+53+33 = 1 + 125 + 27 = 153\n",
    "Example 2:\n",
    "Input:N = 371\n",
    "Output: True\n",
    "Explanation: 33+53+13 = 27 + 343 + 1 = 371\n",
    "'''\n",
    "def check_Armstrong(n):\n",
    "    ans=0\n",
    "    num=n\n",
    "    while num>0:\n",
    "        rem=num%10\n",
    "        ans+=(rem*rem*rem)\n",
    "        num=num//10\n",
    "    if ans==n:\n",
    "        return \"Number is armstrong\"\n",
    "    else:\n",
    "        return \"Number is not armstrong\"\n",
    "n=int(input(\"Enter a number\"))\n",
    "result=check_Armstrong(n)\n",
    "print(result)"
   ]
  },
  {
   "cell_type": "code",
   "execution_count": 4,
   "id": "2d4b11af-abc2-4779-a2b3-6ebc67c743b4",
   "metadata": {},
   "outputs": [
    {
     "name": "stdin",
     "output_type": "stream",
     "text": [
      "Enter a number 6\n"
     ]
    },
    {
     "name": "stdout",
     "output_type": "stream",
     "text": [
      "True\n"
     ]
    }
   ],
   "source": [
    "'''\n",
    "Que6\n",
    "Problem Statement: Perfect Number. Write a program to find whether a number is a perfect number or not.\n",
    "A perfect number is defined as a number that is the sum of its proper divisors ( all its positive divisors excluding \n",
    "itself). \n",
    "\n",
    "Example 1:\n",
    "Input: n=6\n",
    "Output: 6 is a perfect number\n",
    "\n",
    "Example 2:\n",
    "Input: n=15\n",
    "Output: 15 is not a perfect number\n",
    "\n",
    "Example 3:\n",
    "Input: n=28\n",
    "Output: 28 is a perfect number\n",
    "Reason:\n",
    "For 6 and 28 , the sum of their proper divisors (1+2+3) and (1+4+7+14) is equal to the respective numbers and for 15 \n",
    "it is not.\n",
    "'''\n",
    "def perfect_no(n):\n",
    "    li=[]\n",
    "    for i in range(1,n):\n",
    "        if n%i==0:\n",
    "            li.append(i)\n",
    "    if sum(li)==n:\n",
    "        return True\n",
    "    else:\n",
    "        return False\n",
    "n=int(input(\"Enter a number\"))\n",
    "print(perfect_no(n))"
   ]
  },
  {
   "cell_type": "raw",
   "id": "59390121-aa0c-4527-b30d-54aad0092244",
   "metadata": {},
   "source": [
    "#Que7 Problem Statement: Given a number n, check whether a given number is even or odd.\n",
    "n=5\n",
    "if n%2==0:\n",
    "    print(\"Even\")\n",
    "else:\n",
    "    print(\"odd\")"
   ]
  },
  {
   "cell_type": "code",
   "execution_count": null,
   "id": "a919d4a2-1cdc-40dc-b1d2-b8dda2f36b67",
   "metadata": {},
   "outputs": [
    {
     "name": "stdin",
     "output_type": "stream",
     "text": [
      " 12\n"
     ]
    }
   ],
   "source": [
    "#Que8 Problem statement: Given a number n check whether it’s positive or negative.\n",
    "n=int(input())\n",
    "if n>=0:\n",
    "    print(\"positive\")\n",
    "else:\n",
    "    print(\"negative\")"
   ]
  },
  {
   "cell_type": "code",
   "execution_count": 6,
   "id": "8cf9cd86-d4a5-4fd7-8ac8-a4f5628f77f0",
   "metadata": {},
   "outputs": [
    {
     "name": "stdout",
     "output_type": "stream",
     "text": [
      "15\n"
     ]
    }
   ],
   "source": [
    "'''\n",
    "Que9\n",
    "Problem statement: Given a number ‘N’, find out the sum of the first N natural numbers.\n",
    "\n",
    "Examples:\n",
    "\n",
    "Example 1:\n",
    "Input: N=5\n",
    "Output: 15\n",
    "Explanation: 1+2+3+4+5=15\n",
    "\n",
    "Example 2:\n",
    "Input: N=6\n",
    "Output: 21\n",
    "Explanation: 1+2+3+4+5+6=15\n",
    "'''\n",
    "n=5\n",
    "sum=0\n",
    "for i in range(1,n+1):\n",
    "    sum+=i\n",
    "print(sum)"
   ]
  },
  {
   "cell_type": "code",
   "execution_count": 29,
   "id": "4e0fca73-221b-4ac9-bf31-7d02488db340",
   "metadata": {},
   "outputs": [
    {
     "name": "stdout",
     "output_type": "stream",
     "text": [
      "Output: 20.0\n",
      "Output: 156.0\n"
     ]
    }
   ],
   "source": [
    "'''\n",
    "Que10\n",
    "Problem Statement: Given an A.P. Series, we need to find the sum of the Series.\n",
    "\n",
    "a = first term of A.P.\n",
    "\n",
    "d= common Difference of A.P.\n",
    "\n",
    "n= Number of Terms in  A.P.\n",
    "\n",
    "Examples:\n",
    "\n",
    "Example 1:\n",
    "Input:\n",
    "n=4\n",
    "a=2\n",
    "d=2\n",
    "Output: 20\n",
    "Explanation: 2+4+6+8 = 20\n",
    "\n",
    "Input:\n",
    "n=8\n",
    "a=2\n",
    "d=5\n",
    "Output: 124\n",
    "Explanation: -2 +3 + 8 + 13 + 18 + 23 + 28 + 33 = 124\n",
    "'''\n",
    "def sum_of_ap_series(n, a, d):\n",
    "    # Calculate the sum of the A.P. series using the formula\n",
    "    series_sum = (n / 2) * (2*a + (n - 1)*d)\n",
    "    return series_sum\n",
    "\n",
    "# Example usage:\n",
    "n1, a1, d1 = 4, 2, 2\n",
    "print(\"Output:\", sum_of_ap_series(n1, a1, d1))  # Output: 20\n",
    "\n",
    "n2, a2, d2 = 8, 2, 5\n",
    "print(\"Output:\", sum_of_ap_series(n2, a2, d2))  # Output: 124\n"
   ]
  },
  {
   "cell_type": "code",
   "execution_count": 30,
   "id": "66f5e7aa-7c9a-4d02-8870-e42de868ea7b",
   "metadata": {},
   "outputs": [
    {
     "name": "stdout",
     "output_type": "stream",
     "text": [
      "Output: 1.75\n",
      "Output: 18.0\n"
     ]
    }
   ],
   "source": [
    "'''\n",
    "Que11\n",
    "Problem Statement: Given a geometric Progression (G.P) sequence with some inputs as:-\n",
    "\n",
    "a, first term\n",
    "r, common ratio\n",
    "n, number of terms\n",
    " Write a program to find the sum of the geometric Progression Series.\n",
    "\n",
    "Examples:\n",
    "\n",
    "Example 1:\n",
    "Input: a=1 , r=0.5 , n=3\n",
    "Output: 1.75\n",
    "Explanation: The sum of given GP Series is 1.75\n",
    "\n",
    "Example 2:\n",
    "Input: a=3 , r=5 , n=2\n",
    "Output: 18\n",
    "Explanation: The sum of the given GP Series is 18\n",
    "'''\n",
    "def sum_of_gp_series(a, r, n):\n",
    "    # Calculate the sum of the G.P. series using the formula\n",
    "    series_sum = (a * (1 - r**n)) / (1 - r)\n",
    "    return series_sum\n",
    "\n",
    "# Example usage:\n",
    "a1, r1, n1 = 1, 0.5, 3\n",
    "print(\"Output:\", sum_of_gp_series(a1, r1, n1))  # Output: 1.75\n",
    "\n",
    "a2, r2, n2 = 3, 5, 2\n",
    "print(\"Output:\", sum_of_gp_series(a2, r2, n2))  # Output: 18\n"
   ]
  },
  {
   "cell_type": "code",
   "execution_count": 9,
   "id": "0befc778-2424-4cd3-9189-26c57154b202",
   "metadata": {},
   "outputs": [
    {
     "name": "stdout",
     "output_type": "stream",
     "text": [
      "3 is largest\n"
     ]
    }
   ],
   "source": [
    "'''\n",
    "Que12\n",
    "Problem Statement: Given two numbers. Find the greatest of two numbers.\n",
    "\n",
    "Examples:\n",
    "\n",
    "Example 1:\n",
    "Input: 1 3\n",
    "Output: 3\n",
    "Explanation: Answer is 3,since 3 is greater than 1.\n",
    "\n",
    "Input: 1.123  1.124\n",
    "Output: 1.124\n",
    "Explanation: Answer is 1.124,since 1.124 is greater than 1.123.\n",
    "'''\n",
    "a,b=1,3\n",
    "if a>b:\n",
    "    print(a,\"is largest\")\n",
    "if a==b:\n",
    "    print(\"Both are equal\")\n",
    "else:\n",
    "    print(b,\"is largest\")"
   ]
  },
  {
   "cell_type": "code",
   "execution_count": 10,
   "id": "7f5d3b0f-db60-4265-9d7d-b78ffd8f2e3b",
   "metadata": {},
   "outputs": [
    {
     "name": "stdout",
     "output_type": "stream",
     "text": [
      "5\n",
      "1.125\n"
     ]
    }
   ],
   "source": [
    "'''\n",
    "Que13\n",
    "Problem Statement: Given three numbers. Find the greatest of three numbers.\n",
    "\n",
    "Examples:\n",
    "\n",
    "Example 1:\n",
    "Input: 1 3 5\n",
    "Output: 5\n",
    "Explanation: Answer is 5.Since 5 is greater than 1 and 3.\n",
    "\n",
    "Example 2:\n",
    "Input: 1.123  1.124 1.125\n",
    "Output: 1.125\n",
    "Explanation: Answer is 1.125. Since 1.125 is greater than 1.123 and 1.124\n",
    "'''\n",
    "def find_greatest_number(a, b, c):\n",
    "    return max(a, b, c)\n",
    "\n",
    "# Example usage:\n",
    "a, b, c = 1, 3, 5\n",
    "print(find_greatest_number(a, b, c))  # Output: 5\n",
    "\n",
    "a, b, c = 1.123, 1.124, 1.125\n",
    "print(find_greatest_number(a, b, c))  # Output: 1.125\n"
   ]
  },
  {
   "cell_type": "code",
   "execution_count": 11,
   "id": "a2604cab-fb7d-4e54-b21a-d49092407cfe",
   "metadata": {},
   "outputs": [
    {
     "name": "stdout",
     "output_type": "stream",
     "text": [
      "Yes\n",
      "Yes\n",
      "No\n",
      "No\n"
     ]
    }
   ],
   "source": [
    "'''\n",
    "Que14\n",
    "In this post we will solve the problem \"Check if given year is a leap year or not\".\n",
    "\n",
    "Problem Statement: Check if the given year is a leap year or not.\n",
    "\n",
    "Examples:\n",
    "\n",
    "Example 1:\n",
    "Input: 1996\n",
    "Output: Yes\n",
    "Explanation: Since 1996 is a leap year answer is “Yes”.\n",
    "\n",
    "Example 2:\n",
    "Input: 2000\n",
    "Output: Yes\n",
    "\n",
    "Explanation: Since 2000 is a leap year answer is “Yes”.\n",
    "'''\n",
    "def is_leap_year(year):\n",
    "    if year % 400 == 0:\n",
    "        return \"Yes\"\n",
    "    elif year % 100 == 0:\n",
    "        return \"No\"\n",
    "    elif year % 4 == 0:\n",
    "        return \"Yes\"\n",
    "    else:\n",
    "        return \"No\"\n",
    "\n",
    "# Example usage:\n",
    "print(is_leap_year(1996))  # Output: Yes\n",
    "print(is_leap_year(2000))  # Output: Yes\n",
    "print(is_leap_year(1900))  # Output: No\n",
    "print(is_leap_year(2023))  # Output: No\n"
   ]
  },
  {
   "cell_type": "code",
   "execution_count": 13,
   "id": "f73c4a84-5639-4e7e-9f32-cfaf0e366567",
   "metadata": {},
   "outputs": [
    {
     "name": "stdout",
     "output_type": "stream",
     "text": [
      "274\n"
     ]
    }
   ],
   "source": [
    "'''\n",
    "Que15\n",
    "0\n",
    "Problem Statement: Given an integer. Write a program to reverse digits of a number.\n",
    "\n",
    "Examples:\n",
    "\n",
    "Example 1:\n",
    "Input: N = 472\n",
    "Output: 274\n",
    "Explanation: Reading the number from back to front, we see that the output should be 274\n",
    "\n",
    "Example 2:\n",
    "Input: N = 470\n",
    "Output: 74\n",
    "Explanation: Reading the number from back to front, we get 074. For an integer with no decimals, we know that \n",
    "leading zeros have no significance and therefore our answer should be 74\n",
    "'''\n",
    "n=472\n",
    "num=n\n",
    "rev=0\n",
    "while num>0:\n",
    "    rem=num%10\n",
    "    rev=rev*10+rem\n",
    "    num=num//10\n",
    "print(rev)"
   ]
  },
  {
   "cell_type": "code",
   "execution_count": 14,
   "id": "9e808635-61cf-4295-8104-a0a66a21ac2c",
   "metadata": {},
   "outputs": [
    {
     "name": "stdout",
     "output_type": "stream",
     "text": [
      "Largest Digit : 7\n",
      "Smallest Digit : 2\n"
     ]
    }
   ],
   "source": [
    "'''\n",
    "Que16\n",
    "Problem Statement: Given a number N, print the smallest and largest digits present in the number.\n",
    "\n",
    "Examples:\n",
    "\n",
    "Example 1:\n",
    "Input: N = 2746\n",
    "Output: Largest digit: 7\n",
    "        Smallest digit: 2\n",
    "Explanation: By simply going through the digits of \n",
    "the number, we figure out the largest and smallest \n",
    "digit in the number.\n",
    "\n",
    "Example 2:\n",
    "Input: N = 23004\n",
    "Output: Largest digit : 4\n",
    "        Smallest digit : 0\n",
    "Explanation: By simply going through the digits of \n",
    "the number, we figure out the largest and smallest \n",
    "digit in the number.\n",
    "'''\n",
    "li=[]\n",
    "n=2476\n",
    "for i in str(n):\n",
    "    li.append(i)\n",
    "print(\"Largest Digit :\",max(li))\n",
    "print(\"Smallest Digit :\",min(li))\n"
   ]
  },
  {
   "cell_type": "code",
   "execution_count": 15,
   "id": "e34d0a7f-6ab5-4e19-8f6c-4a73086fb1d7",
   "metadata": {},
   "outputs": [
    {
     "name": "stdout",
     "output_type": "stream",
     "text": [
      "0 1 1 2 3 5\n"
     ]
    }
   ],
   "source": [
    "'''\n",
    "Que17\n",
    "Problem Statement: Given an integer N. Print the Fibonacci series up to the Nth term.\n",
    "\n",
    "Examples:\n",
    "\n",
    "Example 1:\n",
    "Input: N = 5\n",
    "Output: 0 1 1 2 3 5\n",
    "Explanation: 0 1 1 2 3 5 is the fibonacci series up to 5th term.(0 based indexing)\n",
    "\n",
    "Example 2:\n",
    "Input: 6\n",
    "\n",
    "Output: 0 1 1 2 3 5 8\n",
    "Explanation: 0 1 1 2 3 5 8 is the fibonacci series upto 6th term.(o based indexing)\n",
    "'''\n",
    "def fibonacci_series(n):\n",
    "    if n == 0:\n",
    "        return [0]\n",
    "    elif n == 1:\n",
    "        return [0, 1]\n",
    "    \n",
    "    # Initialize the first two terms\n",
    "    fib_series = [0, 1]\n",
    "    \n",
    "    # Generate the Fibonacci series up to the nth term\n",
    "    for i in range(2, n + 1):\n",
    "        next_term = fib_series[-1] + fib_series[-2]\n",
    "        fib_series.append(next_term)\n",
    "    \n",
    "    return fib_series\n",
    "\n",
    "# Example usage:\n",
    "N = 5\n",
    "fib_series = fibonacci_series(N)\n",
    "print(\" \".join(map(str, fib_series)))  "
   ]
  },
  {
   "cell_type": "code",
   "execution_count": 16,
   "id": "d4fdbeef-b0bf-4c3b-83d3-e8d821754e5f",
   "metadata": {},
   "outputs": [
    {
     "name": "stdin",
     "output_type": "stream",
     "text": [
      "Enter a number 5\n"
     ]
    },
    {
     "name": "stdout",
     "output_type": "stream",
     "text": [
      "120\n"
     ]
    }
   ],
   "source": [
    "'''\n",
    "Que18\n",
    "Problem Statement: Given a number X,  print its factorial.\n",
    "\n",
    "To obtain the factorial of a number, it has to be multiplied by all the whole numbers preceding it. More precisely X! = X*(X-1)*(X-2) … 1.\n",
    "\n",
    "Note: X  is always a positive number. \n",
    "\n",
    "Examples:\n",
    "\n",
    "Example 1:\n",
    "Input: X = 5\n",
    "Output: 120\n",
    "Explanation: 5! = 5*4*3*2*1\n",
    "\n",
    "Example 2:\n",
    "Input: X = 3\n",
    "Output: 6\n",
    "Explanation: 3!=3*2*1\n",
    "'''\n",
    "def factorial(n):\n",
    "    fact=1\n",
    "    for i in range(1,n+1):\n",
    "        fact*=i\n",
    "    return fact\n",
    "n=int(input(\"Enter a number\"))\n",
    "print(factorial(n))"
   ]
  },
  {
   "cell_type": "code",
   "execution_count": 1,
   "id": "381f0637-32b6-4a7a-bc24-b5e52499124e",
   "metadata": {},
   "outputs": [
    {
     "name": "stdout",
     "output_type": "stream",
     "text": [
      "32\n"
     ]
    }
   ],
   "source": [
    "'''\n",
    "Que19\n",
    "Problem Statement: Given a number N, return all primes till N.\n",
    "\n",
    "Examples\n",
    "Example 1:\n",
    "Input:x = 2, n = 5\n",
    "Output:32\n",
    "Explanation: Calculate pow(2, 5) = 25 = 2*2*2*2*2 = 32\n",
    "Example 2:\n",
    "Input:x = 21, n = 2\n",
    "Output: 441\n",
    "Explanation:  Calculate pow(21, 2) = 212 = 21*21 = 441\n",
    "'''\n",
    "m=2\n",
    "n=5\n",
    "print(m**n)"
   ]
  },
  {
   "cell_type": "code",
   "execution_count": 2,
   "id": "05b720b2-fc09-44f9-a8e7-0dab6f9909f5",
   "metadata": {},
   "outputs": [
    {
     "name": "stdout",
     "output_type": "stream",
     "text": [
      "[1, 2, 3, 6]\n"
     ]
    }
   ],
   "source": [
    "'''\n",
    "Que20\n",
    "Problem Statement: Find all factors of a number or find all distinct divisors of a natural number.\n",
    "\n",
    "Examples:\n",
    "\n",
    "Example 1:\n",
    "Input: n = 6\n",
    "Output: 1,2,3,6\n",
    "Explanation: 6 is divisible by 1,2,3,6\n",
    "\n",
    "Example 2:\n",
    "Input: n = 9\n",
    "Output: 1,3,9\n",
    "Explanation: 9 is divisible by 1,3,9\n",
    "'''\n",
    "n=6\n",
    "li=[]\n",
    "for i in range(1,n+1):\n",
    "    if n%i==0:\n",
    "        li.append(i)\n",
    "print(li)"
   ]
  },
  {
   "cell_type": "code",
   "execution_count": 3,
   "id": "5d332ff2-fc37-4fd1-b784-4a2f8ffc2ea5",
   "metadata": {},
   "outputs": [
    {
     "name": "stdout",
     "output_type": "stream",
     "text": [
      "[2, 3, 5]\n",
      "[5, 7]\n"
     ]
    }
   ],
   "source": [
    "'''\n",
    "Que21\n",
    "Problem Statement: Given an integer N, print all of its prime factors.\n",
    "\n",
    "Examples\n",
    "Example 1:\n",
    "Input: N=60\n",
    "Output: 2, 3, 5\n",
    "Explanation: All factors/divisors of 60 include: 1, 2, 3, 4, 5, 6, 10, 12, 18, 20, 30, 60. Out of these only 2, 3 and 5 are prime.\n",
    "Example 2:\n",
    "Input: N=35\n",
    "Output: 5, 7\n",
    "Explanation: All factors/divisors of 35 include: 1, 5, 7, 35. Out of these, only 5 and 7 are prime.\n",
    "'''\n",
    "def prime_factors(n):\n",
    "    factors = []\n",
    "    \n",
    "    # Check for the number of 2s that divide n\n",
    "    while n % 2 == 0:\n",
    "        if 2 not in factors:\n",
    "            factors.append(2)\n",
    "        n = n // 2\n",
    "    \n",
    "    # n must be odd at this point, thus a skip of 2 (i.e., 3, 5, 7, ...)\n",
    "    for i in range(3, int(n**0.5) + 1, 2):\n",
    "        # While i divides n, add i and divide n\n",
    "        while n % i == 0:\n",
    "            if i not in factors:\n",
    "                factors.append(i)\n",
    "            n = n // i\n",
    "    \n",
    "    # This condition is to check if n is a prime number greater than 2\n",
    "    if n > 2:\n",
    "        factors.append(n)\n",
    "    \n",
    "    return factors\n",
    "\n",
    "# Example usage:\n",
    "N = 60\n",
    "print(prime_factors(N))  # Output: [2, 3, 5]\n",
    "\n",
    "N = 35\n",
    "print(prime_factors(N))  # Output: [5, 7]\n"
   ]
  },
  {
   "cell_type": "code",
   "execution_count": 10,
   "id": "e291b77a-bcbd-41ab-9fd7-9bf0bfe61641",
   "metadata": {},
   "outputs": [
    {
     "name": "stdin",
     "output_type": "stream",
     "text": [
      "Enter a number 26\n"
     ]
    },
    {
     "name": "stdout",
     "output_type": "stream",
     "text": [
      "722\n",
      "No\n"
     ]
    }
   ],
   "source": [
    "'''\n",
    "Que22\n",
    "Problem Statement: Given an integer Print “YES” if it is a strong number else print “NO”.\n",
    "\n",
    "Note : \n",
    "\n",
    "When the sum of factorial of individual digits of a number is equal to the original number the number is called a strong number. \n",
    "Strong number is also known as Krishnamurthi number/Peterson Number.\n",
    "Examples:\n",
    "\n",
    "Examples 1:\n",
    "Input: N = 145\n",
    "Output: Yes\n",
    "Explanation: 1! + 4! + 5! = 145. Hence 145 is a strong number. \n",
    "\n",
    "Example 2:\n",
    "Input:  26\n",
    "Output: No\n",
    "Explanation: 2! + 6! = 722. Hence 26 is not a strong number.\n",
    "'''\n",
    "def factorial(n):\n",
    "    fact=1\n",
    "    for i in range(1,n+1):\n",
    "        fact*=i\n",
    "    return fact\n",
    "\n",
    "def strong(n):\n",
    "    num=n\n",
    "    ans=0\n",
    "    while num>0:\n",
    "        rem=num%10\n",
    "        ans+=factorial(rem)\n",
    "        num=num//10\n",
    "    print(ans)\n",
    "    if ans==n:\n",
    "        return \"Yes\"\n",
    "    else:\n",
    "        return \"No\"\n",
    "n=int(input(\"Enter a number\"))\n",
    "print(strong(n))"
   ]
  },
  {
   "cell_type": "code",
   "execution_count": 11,
   "id": "db8c8e34-df92-4f74-b9fa-8fa3eef6c8f1",
   "metadata": {},
   "outputs": [
    {
     "name": "stdin",
     "output_type": "stream",
     "text": [
      "Enter a number:  76\n"
     ]
    },
    {
     "name": "stdout",
     "output_type": "stream",
     "text": [
      "Automorphic Number\n"
     ]
    }
   ],
   "source": [
    "'''\n",
    "Que23\n",
    "Problem Statement: Given a number, check if it is automorphic or not.\n",
    "A number is called an Automorphic number if and only if its square ends in the same digits as the number itself.\n",
    "\n",
    "Examples:\n",
    "\n",
    "Example 1:\n",
    "Input Format: N = 76\n",
    "Result: Automorphic Number\n",
    "Explanation: Calculating 76 * 76 gives 5776, it ends with the given number.\n",
    "\n",
    "Input Format: 25\n",
    "Result: Automorphic Number\n",
    "Explanation: Calculating 25 * 25 gives 625, it ends with the given number.\n",
    "'''\n",
    "def is_automorphic(n):\n",
    "    square = n ** 2\n",
    "    # Convert numbers to strings for easy comparison of last digits\n",
    "    n_str = str(n)\n",
    "    square_str = str(square)\n",
    "    # Check if the square ends with the same digits as the original number\n",
    "    return square_str.endswith(n_str)\n",
    "\n",
    "# Example usage:\n",
    "num = int(input(\"Enter a number: \"))\n",
    "if is_automorphic(num):\n",
    "    print(\"Automorphic Number\")\n",
    "else:\n",
    "    print(\"Not an Automorphic Number\")\n"
   ]
  },
  {
   "cell_type": "code",
   "execution_count": 13,
   "id": "a1b75f93-6dfa-419f-9fd2-ce74bccbcee1",
   "metadata": {},
   "outputs": [
    {
     "name": "stdout",
     "output_type": "stream",
     "text": [
      "3\n"
     ]
    }
   ],
   "source": [
    "'''\n",
    "Que24\n",
    "\n",
    "Problem Statement: Given two integers N1 and N2, find their greatest common divisor.\n",
    "\n",
    "The Greatest Common Divisor of any two integers is the largest number that divides both integers.\n",
    "\n",
    "Examples\n",
    "Example 1:\n",
    "Input:N1 = 9, N2 = 12\n",
    "                \n",
    "Output:3\n",
    "\n",
    "Explanation:Factors of 9: 1, 3 and 9\n",
    "Factors of 12: 1, 2, 3, 4, 6, 12\n",
    "Common Factors: 1, 3 out of which 3 is the greatest hence it is the GCD.\n",
    "Example 2:\n",
    "Input:N1 = 20, N2 = 15\n",
    "                \n",
    "Output: 5\n",
    "Explanation:Factors of 20: 1, 2, 4, 5\n",
    "Factors of 15: 1, 3, 5\n",
    "Common Factors: 1, 5 out of which 5 is the greatest hence it is the GCD.\n",
    "'''\n",
    "n1,n2=9,12\n",
    "li=[]\n",
    "n=max(n1,n2)\n",
    "for i in range(1,n):\n",
    "    if n1%i==0 and n2%i==0:\n",
    "        li.append(i)\n",
    "print(max(li))"
   ]
  },
  {
   "cell_type": "code",
   "execution_count": 14,
   "id": "976b1cf9-8cd0-4e95-8c8e-daac13268a84",
   "metadata": {},
   "outputs": [
    {
     "name": "stdin",
     "output_type": "stream",
     "text": [
      "Enter first number:  4\n",
      "Enter second number:  11\n"
     ]
    },
    {
     "name": "stdout",
     "output_type": "stream",
     "text": [
      "LCM of 4 and 11 is: 44\n"
     ]
    }
   ],
   "source": [
    "'''\n",
    "Que25\n",
    "Problem Statement: Find lcm of two numbers.\n",
    "\n",
    "Examples:\n",
    "\n",
    "Example 1:\n",
    "Input: num1 =4,num2 = 8\n",
    "Output: 8\n",
    "\n",
    "\n",
    "Example 2:\n",
    "Input: num1 = 3,num2 = 6\n",
    "Output: 6\n",
    "'''\n",
    "def gcd(a, b):\n",
    "    # Euclidean algorithm to find GCD\n",
    "    while b:\n",
    "        a, b = b, a % b\n",
    "    return a\n",
    "\n",
    "def lcm(a, b):\n",
    "    # LCM = (|a * b|) / GCD(a, b)\n",
    "    return abs(a * b) // gcd(a, b)\n",
    "\n",
    "# Example usage:\n",
    "num1 = int(input(\"Enter first number: \"))\n",
    "num2 = int(input(\"Enter second number: \"))\n",
    "\n",
    "print(\"LCM of\", num1, \"and\", num2, \"is:\", lcm(num1, num2))\n"
   ]
  },
  {
   "cell_type": "code",
   "execution_count": 17,
   "id": "187a31c5-c339-4972-8ea8-8094cdcf9332",
   "metadata": {},
   "outputs": [
    {
     "name": "stdin",
     "output_type": "stream",
     "text": [
      "Enter a number 379\n"
     ]
    },
    {
     "name": "stdout",
     "output_type": "stream",
     "text": [
      "False\n"
     ]
    }
   ],
   "source": [
    "'''\n",
    "Que26\n",
    "Problem Statement: Check if the number is a Harshad(or Niven) number or not.\n",
    "\n",
    "Examples:\n",
    "\n",
    "Example 1:\n",
    "Input: 378\n",
    "Output: Yes it is a Harshad number.\n",
    "Explanation: 3+7+8=18. 378 is divisible by 18. Therefore 378 is a harshad number.\n",
    "\n",
    "Example 2:\n",
    "Input: 379\n",
    "Output: No\n",
    " it is not a Harshad number.\n",
    "Explanation: 3+7+9=19. 379 is not divisible by 19. Therefore 379 is a harshad number.\n",
    "'''\n",
    "def Harshad(n):\n",
    "    num=n\n",
    "    ans=0\n",
    "    while num>0:\n",
    "        rem=num%10\n",
    "        ans+=rem\n",
    "        num=num//10\n",
    "    if n%ans==0:\n",
    "        return True\n",
    "    else:\n",
    "        return False\n",
    "n=int(input(\"Enter a number\"))\n",
    "print(Harshad(n))"
   ]
  },
  {
   "cell_type": "code",
   "execution_count": 18,
   "id": "2653d1f6-d39d-4888-b225-82893b7be792",
   "metadata": {},
   "outputs": [
    {
     "name": "stdout",
     "output_type": "stream",
     "text": [
      "True\n"
     ]
    }
   ],
   "source": [
    "'''\n",
    "Que27\n",
    "Problem Statement: Check if the number is an abundant number or not.\n",
    "\n",
    "Examples:\n",
    "\n",
    "Example 1:\n",
    "Input: 18\n",
    "Output: Abundant Number\n",
    "Explanation: Divisors of 18 are 1,2,3,6,9. 1+2+3+6+9=21, Since 21 is greater than 18, 18 is an abundant number.\n",
    "\n",
    "Example 2:\n",
    "Input: 21\n",
    "Output: Not Abundant Number\n",
    "Explanation:Divisors of 21 are 1,3,7. 1+3+7=11, Since 11 is smaller than 21, 11 is not an abundant number.\n",
    "'''\n",
    "n=18\n",
    "li=[]\n",
    "for i in range(1,n):\n",
    "    if n%i==0:\n",
    "        li.append(i)\n",
    "if sum(li)>n:\n",
    "    print(True)\n",
    "else:\n",
    "    print(False)"
   ]
  },
  {
   "cell_type": "code",
   "execution_count": 19,
   "id": "f0cd9fae-e8ca-4efb-a3e4-da9483c9f3e5",
   "metadata": {},
   "outputs": [
    {
     "name": "stdout",
     "output_type": "stream",
     "text": [
      "Sum of digits of 472 is: 13\n",
      "Sum of digits of 102 is: 3\n"
     ]
    }
   ],
   "source": [
    "'''\n",
    "Que28\n",
    "Problem Statement: Given an integer, find the sum of digits of that integer.\n",
    "\n",
    "Examples:\n",
    "\n",
    "Example 1:\n",
    "Input: N = 472\n",
    "Output: 13\n",
    "Explanation: The digits in the number are 4,7 and 2. Summing them up gives us a value of 13\n",
    "\n",
    "Example 2:\n",
    "Input: N = 102\n",
    "Output: 3\n",
    "Explanation: The digits in the number are 0, 1, and 2. Summing them up gives us a value of 3\n",
    "'''\n",
    "def sum_of_digits(n):\n",
    "    # Initialize sum to store the total sum of digits\n",
    "    total_sum = 0\n",
    "    \n",
    "    # Convert the number to a string to easily iterate through its digits\n",
    "    n_str = str(n)\n",
    "    \n",
    "    # Iterate through each digit and add it to the sum\n",
    "    for digit in n_str:\n",
    "        total_sum += int(digit)\n",
    "    \n",
    "    return total_sum\n",
    "\n",
    "# Example usage:\n",
    "N = 472\n",
    "print(\"Sum of digits of\", N, \"is:\", sum_of_digits(N))  # Output: 13\n",
    "\n",
    "N = 102\n",
    "print(\"Sum of digits of\", N, \"is:\", sum_of_digits(N))  # Output: 3\n"
   ]
  },
  {
   "cell_type": "code",
   "execution_count": 20,
   "id": "38997f70-96a6-474f-8d07-30dae7e1c2cb",
   "metadata": {},
   "outputs": [
    {
     "name": "stdout",
     "output_type": "stream",
     "text": [
      "27\n"
     ]
    }
   ],
   "source": [
    "'''\n",
    "Que29\n",
    "Problem Statement: Find the sum of numbers in the given range.\n",
    "\n",
    "Examples:\n",
    "\n",
    "Example 1:\n",
    "Input: l=2, r=7\n",
    "Output: 27\n",
    "Explanation: 2+3+4+5+6+7=27. Therefore 27 is the answer.\n",
    "\n",
    "Example 2:\n",
    "Input: l=5, r=9\n",
    "Output: 35\n",
    "Explanation: 5+6+7+8+9=35. Therefore 35 is the answer.\n",
    "'''\n",
    "l=2\n",
    "r=7\n",
    "sum=0\n",
    "for i in range(l,r+1):\n",
    "    sum+=i\n",
    "print(sum)"
   ]
  },
  {
   "cell_type": "code",
   "execution_count": 21,
   "id": "3c5d0edc-eba0-4d38-b5f9-f424fc9c9c71",
   "metadata": {},
   "outputs": [
    {
     "name": "stdout",
     "output_type": "stream",
     "text": [
      "Permutations of 5 people in 3 seats: 60\n",
      "Permutations of 6 people in 4 seats: 360\n"
     ]
    }
   ],
   "source": [
    "'''\n",
    "Que30\n",
    "Problem Statement: Find permutations in which n people can occupy r seats in a classroom.\n",
    "\n",
    "Examples:\n",
    "\n",
    "Example 1:\n",
    "Input: N = 5, r = 3\n",
    "Output: 60\n",
    "Explanation: To permute n people in r seats we have to find the value of n!/(n-r)!.The value of 5!/(5-3)! Is 60.\n",
    "\n",
    "Example 2:\n",
    "Input: N=6,r = 4.\n",
    "Output: 360\n",
    "'''\n",
    "def factorial(n):\n",
    "    # Base case: factorial of 0 is 1\n",
    "    if n == 0:\n",
    "        return 1\n",
    "    # Calculate factorial for other values\n",
    "    fact = 1\n",
    "    for i in range(1, n + 1):\n",
    "        fact *= i\n",
    "    return fact\n",
    "\n",
    "def permutations(n, r):\n",
    "    # Calculate the permutation using the permutation formula\n",
    "    perm = factorial(n) // factorial(n - r)\n",
    "    return perm\n",
    "\n",
    "# Example usage:\n",
    "N = 5\n",
    "r = 3\n",
    "print(\"Permutations of\", N, \"people in\", r, \"seats:\", permutations(N, r))  # Output: 60\n",
    "\n",
    "N = 6\n",
    "r = 4\n",
    "print(\"Permutations of\", N, \"people in\", r, \"seats:\", permutations(N, r))  # Output: 360\n"
   ]
  },
  {
   "cell_type": "code",
   "execution_count": 28,
   "id": "e49f3b61-40aa-4b73-b44f-3f542acc0d75",
   "metadata": {},
   "outputs": [
    {
     "name": "stdout",
     "output_type": "stream",
     "text": [
      "Output: 25/28\n",
      "Output: 3/1\n"
     ]
    }
   ],
   "source": [
    "'''\n",
    "Que31\n",
    "Problem Statement: Adding two fractional numbers.\n",
    "\n",
    "Examples:\n",
    "\n",
    "Example 1:\n",
    "Input: 3/4 + 1/7 \n",
    "Output: 25/28\n",
    "Explanation: Since 3/4 + 1/7 = 25/28\n",
    "\n",
    "Example 2:\n",
    "Input: 5/2 +1/2\n",
    "Output: 3/1\n",
    "Explanation: Since 5/2 + 1/2 = 3/1\n",
    "'''\n",
    "import math\n",
    "\n",
    "def add_fractions(fraction1, fraction2):\n",
    "    # Extract numerators and denominators from fractions\n",
    "    numerator1, denominator1 = map(int, fraction1.split('/'))\n",
    "    numerator2, denominator2 = map(int, fraction2.split('/'))\n",
    "    \n",
    "    # Find the least common multiple (LCM) of denominators\n",
    "    lcm = (denominator1 * denominator2) // math.gcd(denominator1, denominator2)\n",
    "    \n",
    "    # Calculate new numerators based on the common denominator\n",
    "    new_numerator1 = numerator1 * (lcm // denominator1)\n",
    "    new_numerator2 = numerator2 * (lcm // denominator2)\n",
    "    \n",
    "    # Add numerators\n",
    "    result_numerator = new_numerator1 + new_numerator2\n",
    "    \n",
    "    # Simplify the result fraction\n",
    "    gcd = math.gcd(result_numerator, lcm)\n",
    "    result_fraction = str(result_numerator // gcd) + '/' + str(lcm // gcd)\n",
    "    \n",
    "    return result_fraction\n",
    "\n",
    "# Example usage:\n",
    "fraction1 = '3/4'\n",
    "fraction2 = '1/7'\n",
    "print(\"Output:\", add_fractions(fraction1, fraction2))  # Output: 25/28\n",
    "\n",
    "fraction1 = '5/2'\n",
    "fraction2 = '1/2'\n",
    "print(\"Output:\", add_fractions(fraction1, fraction2))  # Output: 3/1\n"
   ]
  },
  {
   "cell_type": "code",
   "execution_count": 23,
   "id": "cc815fec-20db-491f-b5eb-141dfa811fad",
   "metadata": {},
   "outputs": [
    {
     "name": "stdout",
     "output_type": "stream",
     "text": [
      "Output: 112113\n",
      "Output: 214\n"
     ]
    }
   ],
   "source": [
    "'''\n",
    "Que32\n",
    "Problem Statement: You are given an integer. Your task is to replace all the zeros in the integer with ones.\n",
    "\n",
    "Examples:\n",
    "\n",
    "Example 1:\n",
    "Input: N = 102003\n",
    "Output: 112113\n",
    "Explanation: The 2nd,4th and 5th position from left contain 0.The resultant integer has replaced the 0’s in those  positions with 1.\n",
    "\n",
    "Example 2:\n",
    "Input:  204\n",
    "Output: 214\n",
    "Explanation: The 2nd position from left contain 0. The resultant integer has replaced the 0 in that position with 1.\n",
    "'''\n",
    "def replace_zeros_with_ones(n):\n",
    "    # Convert the integer to a string\n",
    "    n_str = str(n)\n",
    "    \n",
    "    # Replace all occurrences of '0' with '1'\n",
    "    n_str_modified = n_str.replace('0', '1')\n",
    "    \n",
    "    # Convert the modified string back to an integer\n",
    "    result = int(n_str_modified)\n",
    "    \n",
    "    return result\n",
    "\n",
    "# Example usage:\n",
    "N = 102003\n",
    "print(\"Output:\", replace_zeros_with_ones(N))  # Output: 112113\n",
    "\n",
    "N = 204\n",
    "print(\"Output:\", replace_zeros_with_ones(N))  # Output: 214\n"
   ]
  },
  {
   "cell_type": "code",
   "execution_count": 27,
   "id": "6bc0603e-9406-4c58-a353-63bb1916e2c6",
   "metadata": {},
   "outputs": [
    {
     "name": "stdout",
     "output_type": "stream",
     "text": [
      "Output: True\n",
      "Output: False\n"
     ]
    }
   ],
   "source": [
    "'''\n",
    "Que33\n",
    "Problem: Given a number n, express the number as a sum of 2 prime numbers.\n",
    "\n",
    "Examples:\n",
    "\n",
    "Example 1:\n",
    "Input : N = 74\n",
    "Output : True . \n",
    "Explanation: 74 can be expressed as 71 + 3 and both are prime numbers. \n",
    "\n",
    "Example 2:\n",
    "Input : N = 11\n",
    "Output : False. \n",
    "Explanation: 11 cannot be expressed as sum of two prime numbers.\n",
    "'''\n",
    "def is_prime(num):\n",
    "    # Check if num is a prime number\n",
    "    if num <= 1:\n",
    "        return False\n",
    "    for i in range(2, int(num**0.5) + 1):\n",
    "        if num % i == 0:\n",
    "            return False\n",
    "    return True\n",
    "\n",
    "def can_be_sum_of_two_primes(n):\n",
    "    # Iterate through all possible pairs of prime numbers less than n\n",
    "    for i in range(2, n):\n",
    "        if is_prime(i) and is_prime(n - i):\n",
    "            return True\n",
    "    return False\n",
    "\n",
    "# Example usage:\n",
    "N1 = 74\n",
    "print(\"Output:\", can_be_sum_of_two_primes(N1))  # Output: True\n",
    "\n",
    "N2 = 11\n",
    "print(\"Output:\", can_be_sum_of_two_primes(N2))  # Output: False\n"
   ]
  },
  {
   "cell_type": "code",
   "execution_count": 25,
   "id": "a58f89ff-86e2-4223-9fa6-4984cdb17694",
   "metadata": {},
   "outputs": [
    {
     "name": "stdout",
     "output_type": "stream",
     "text": [
      "Area of the circle with radius 5 is: 78.53981633974483\n",
      "Area of the circle with radius 4 is: 50.26548245743669\n"
     ]
    }
   ],
   "source": [
    "'''\n",
    "Que34\n",
    "Problem Statement: Given the radius of the circle, calculate the area of the circle.\n",
    "\n",
    "Examples:\n",
    "\n",
    "Example 1:\n",
    "Input: N = 5\n",
    "Output: 78.5\n",
    "Explanation: Using formula  πr2 for finding area of circle we get area as 78.5\n",
    "\n",
    "Example 2:\n",
    "Input: N = 4\n",
    "Output: 50.2\n",
    "Explanation: Using formula  πr2 for finding area of circle we get area as 50.2\n",
    "'''\n",
    "import math\n",
    "\n",
    "def calculate_circle_area(radius):\n",
    "    # Calculate the area using the formula\n",
    "    area = math.pi * radius**2\n",
    "    return area\n",
    "\n",
    "# Example usage:\n",
    "radius = 5\n",
    "print(\"Area of the circle with radius\", radius, \"is:\", calculate_circle_area(radius))  # Output: 78.5\n",
    "\n",
    "radius = 4\n",
    "print(\"Area of the circle with radius\", radius, \"is:\", calculate_circle_area(radius))  # Output: 50.24\n"
   ]
  },
  {
   "cell_type": "code",
   "execution_count": 26,
   "id": "c1af204e-3004-40a3-9919-fc26b73cebd6",
   "metadata": {},
   "outputs": [
    {
     "name": "stdout",
     "output_type": "stream",
     "text": [
      "Roots are real and different, i.e. (5.0, -2.0)\n",
      "Roots are complex, i.e. (-0.5 + i0.8660254037844386, -0.5 - i0.8660254037844386)\n"
     ]
    }
   ],
   "source": [
    "'''\n",
    "Que35\n",
    "Problem Statement: The standard form of a quadratic equation is:\n",
    "\n",
    "ax2 + bx + c = 0, where a, b and c are real numbers and a != 0\n",
    "\n",
    "You have given a, b, c of the equation, you have found the roots of the equation.\n",
    "\n",
    "Examples:\n",
    "\n",
    "Example 1:\n",
    "Input: a = 1, b = -3, c = -10\n",
    "Output: Roots are real and different, i.e(5 , -2).\n",
    "\n",
    "Example2:\n",
    "\n",
    "Input: a = 1, b = 1, c = 1\n",
    "Output: Roots are complex, i.e-(-0.5+i1.732 , -0.5-i1.732).\n",
    "'''\n",
    "import math\n",
    "\n",
    "def find_quadratic_roots(a, b, c):\n",
    "    # Calculate discriminant\n",
    "    discriminant = b**2 - 4*a*c\n",
    "    \n",
    "    # Calculate roots based on discriminant\n",
    "    if discriminant > 0:\n",
    "        # Real and different roots\n",
    "        root1 = (-b + math.sqrt(discriminant)) / (2*a)\n",
    "        root2 = (-b - math.sqrt(discriminant)) / (2*a)\n",
    "        return \"Roots are real and different, i.e. (\" + str(root1) + \", \" + str(root2) + \")\"\n",
    "    elif discriminant == 0:\n",
    "        # Real and equal roots\n",
    "        root = -b / (2*a)\n",
    "        return \"Roots are real and equal, i.e. (\" + str(root) + \", \" + str(root) + \")\"\n",
    "    else:\n",
    "        # Complex roots\n",
    "        real_part = -b / (2*a)\n",
    "        imaginary_part = math.sqrt(abs(discriminant)) / (2*a)\n",
    "        return \"Roots are complex, i.e. (\" + str(real_part) + \" + i\" + str(imaginary_part) + \", \" + str(real_part) + \" - i\" + str(imaginary_part) + \")\"\n",
    "\n",
    "# Example usage:\n",
    "a1, b1, c1 = 1, -3, -10\n",
    "print(find_quadratic_roots(a1, b1, c1))  # Output: Roots are real and different, i.e. (5.0, -2.0)\n",
    "\n",
    "a2, b2, c2 = 1, 1, 1\n",
    "print(find_quadratic_roots(a2, b2, c2))  # Output: Roots are complex, i.e. (-0.5 + i1.732, -0.5 - i1.732)\n"
   ]
  },
  {
   "cell_type": "code",
   "execution_count": 31,
   "id": "89ff1a45-640f-449e-98e4-a14b54a20afe",
   "metadata": {},
   "outputs": [],
   "source": [
    "#Number System"
   ]
  },
  {
   "cell_type": "code",
   "execution_count": 35,
   "id": "b37952e5-2af7-47c9-a73c-61e02439496a",
   "metadata": {},
   "outputs": [
    {
     "name": "stdin",
     "output_type": "stream",
     "text": [
      "Enter a binary number 1011\n"
     ]
    },
    {
     "name": "stdout",
     "output_type": "stream",
     "text": [
      "11\n"
     ]
    }
   ],
   "source": [
    "'''\n",
    "Que1\n",
    "Problem Statement: Convert a binary number to a decimal number.\n",
    "\n",
    "Examples:\n",
    "\n",
    "Example 1:\n",
    "Input: N = 1011\n",
    "Output: 11\n",
    "Explanation: 1011 when converted to decimal number is “11”.\n",
    "\n",
    "Example 2:\n",
    "Input: 100\n",
    "Output: 4\n",
    "Explanation: 100 when converted to decimal number is “4”.\n",
    "'''\n",
    "bn=int(input(\"Enter a binary number\"))\n",
    "dec,cn=0,0\n",
    "ans=0\n",
    "while bn>0:\n",
    "    rem=bn%10\n",
    "    ans+=rem*(2**cn)\n",
    "    bn=bn//10\n",
    "    cn+=1\n",
    "print(ans)"
   ]
  },
  {
   "cell_type": "code",
   "execution_count": 5,
   "id": "325224a1-ae1d-47f4-829d-aa242d2f750a",
   "metadata": {},
   "outputs": [
    {
     "name": "stdin",
     "output_type": "stream",
     "text": [
      "Enter a number 1100110\n"
     ]
    },
    {
     "name": "stdout",
     "output_type": "stream",
     "text": [
      "[1, 4, 6]\n"
     ]
    }
   ],
   "source": [
    "'''\n",
    "Que2\n",
    "Example 1:.\n",
    "Input: N = 1100110\n",
    "Output: 146\n",
    "Explanation: 1100110 when converted to octal number is “146”.\n",
    "\n",
    "Example 2:\n",
    "Input: 11111\n",
    "Output: 37\n",
    "Explanation: 11111 when converted to octal number is “37”.\n",
    "'''\n",
    "n=int(input(\"Enter a number\"))\n",
    "octal_no=[0,1,10,11,100,101,110,111]\n",
    "output=[]\n",
    "x=n\n",
    "while x!=0:\n",
    "    rem=x%1000\n",
    "    output.append(octal_no.index(rem))\n",
    "    x=x//1000\n",
    "output.reverse()\n",
    "print(output)"
   ]
  },
  {
   "cell_type": "code",
   "execution_count": 45,
   "id": "7811fc63-617f-4119-91dd-3b635cde327b",
   "metadata": {},
   "outputs": [
    {
     "name": "stdout",
     "output_type": "stream",
     "text": [
      "1111"
     ]
    }
   ],
   "source": [
    "'''\n",
    "Que3\n",
    "Problem Statement: Convert decimal to binary number.\n",
    "\n",
    "Examples:\n",
    "\n",
    "Example 1:\n",
    "Input: N = 15\n",
    "Output: 1111\n",
    "Explanation: 15 in binary is represented as \"1111\".\n",
    "\n",
    "Example 2:\n",
    "Input: 18\n",
    "Output: 10010\n",
    "Explanation: 18 in binary is represented as \"10010\".\n",
    "'''\n",
    "n=15\n",
    "l=[]\n",
    "while n>0:\n",
    "    r=n%2\n",
    "    l.append(r)\n",
    "    n=n//2\n",
    "l.reverse()\n",
    "for i in l:\n",
    "    print(i,end=\"\")"
   ]
  },
  {
   "cell_type": "code",
   "execution_count": 46,
   "id": "e703b7f3-1280-444f-825a-900e2d77dc42",
   "metadata": {},
   "outputs": [
    {
     "name": "stdout",
     "output_type": "stream",
     "text": [
      "Output: 21\n",
      "Output: 55\n"
     ]
    }
   ],
   "source": [
    "'''\n",
    "Que4\n",
    "Problem Statement: Given a decimal number, convert it into Octal Number.\n",
    "\n",
    "Examples:\n",
    "\n",
    "Example 1:\n",
    "Input:  17\n",
    "Output: 21\n",
    "Explanation: Octal Equivalent of 17 is 21\n",
    "\n",
    "Example 2:\n",
    "Input:  45\n",
    "Output: 55\n",
    "Explanation: Octal Equivalent of 45 is 55\n",
    "'''\n",
    "def decimal_to_octal(decimal):\n",
    "    octal = ''\n",
    "    # Continue dividing the decimal number until it becomes 0\n",
    "    while decimal > 0:\n",
    "        remainder = decimal % 8\n",
    "        # Prepend the remainder to the octal representation\n",
    "        octal = str(remainder) + octal\n",
    "        # Update the decimal number by integer division\n",
    "        decimal //= 8\n",
    "    return octal\n",
    "\n",
    "# Example usage:\n",
    "decimal1 = 17\n",
    "print(\"Output:\", decimal_to_octal(decimal1))  # Output: 21\n",
    "\n",
    "decimal2 = 45\n",
    "print(\"Output:\", decimal_to_octal(decimal2))  # Output: 55\n"
   ]
  },
  {
   "cell_type": "code",
   "execution_count": 47,
   "id": "fca2d630-00e5-47f6-9451-1271a4643e64",
   "metadata": {},
   "outputs": [
    {
     "name": "stdout",
     "output_type": "stream",
     "text": [
      "Output: 011100101\n",
      "Output: 001111000\n"
     ]
    }
   ],
   "source": [
    "'''\n",
    "Que5\n",
    "Problem Statement: Given an Octal Number, convert it into Binary Number.\n",
    "\n",
    "Examples:\n",
    "\n",
    "Example 1:\n",
    "Input: 345\n",
    "Output: 011100101\n",
    "Explanation: Binary equivalent of given Octal expressionis 011100101\n",
    "\n",
    "Example 2:\n",
    "Input: 170\n",
    "Output: 001111000\n",
    "Explanation: Binary equivalent of given Octal expression is 001111000\n",
    "'''\n",
    "def octal_to_binary(octal):\n",
    "    # Dictionary to map each octal digit to its binary equivalent\n",
    "    octal_to_binary_dict = {\n",
    "        '0': '000',\n",
    "        '1': '001',\n",
    "        '2': '010',\n",
    "        '3': '011',\n",
    "        '4': '100',\n",
    "        '5': '101',\n",
    "        '6': '110',\n",
    "        '7': '111'\n",
    "    }\n",
    "    \n",
    "    binary = ''\n",
    "    # Iterate through each digit of the octal number\n",
    "    for digit in octal:\n",
    "        # Look up the binary equivalent of the octal digit in the dictionary\n",
    "        binary += octal_to_binary_dict[digit]\n",
    "    \n",
    "    return binary\n",
    "\n",
    "# Example usage:\n",
    "octal1 = '345'\n",
    "print(\"Output:\", octal_to_binary(octal1))  # Output: 011100101\n",
    "\n",
    "octal2 = '170'\n",
    "print(\"Output:\", octal_to_binary(octal2))  # Output: 001111000\n"
   ]
  },
  {
   "cell_type": "code",
   "execution_count": 3,
   "id": "dfd67292-c34c-40ee-a72b-58391912f48d",
   "metadata": {},
   "outputs": [
    {
     "name": "stdin",
     "output_type": "stream",
     "text": [
      "Enter a octal number 1534\n"
     ]
    },
    {
     "name": "stdout",
     "output_type": "stream",
     "text": [
      "860\n"
     ]
    }
   ],
   "source": [
    "'''\n",
    "Que6\n",
    "roblem Statement: Given an Octal Number, convert it into a Decimal Number.\n",
    "\n",
    "Examples:\n",
    "\n",
    "Example 1:\n",
    "Input: 345\n",
    "Output: 229\n",
    "Explanation: Decimal equivalent of given Octal expressionis 229\n",
    "\n",
    "Example 2:\n",
    "Input: 170\n",
    "Output: 120\n",
    "Explanation: Decimal equivalent of given Octal expression is121\n",
    "'''\n",
    "n=int(input(\"Enter a octal number\"))\n",
    "dec,cn=0,0\n",
    "ans=0\n",
    "while n>0:\n",
    "    rem=n%10\n",
    "    ans+=rem*(8**cn)\n",
    "    n=n//10\n",
    "    cn+=1\n",
    "print(ans)"
   ]
  },
  {
   "cell_type": "code",
   "execution_count": 53,
   "id": "4a5f1ee8-af5b-4700-90f2-08d2ee39981a",
   "metadata": {},
   "outputs": [
    {
     "name": "stdout",
     "output_type": "stream",
     "text": [
      "thirty-six\n"
     ]
    }
   ],
   "source": [
    "'''\n",
    "Que7\n",
    "Problem Statement: Given a number, convert it into the form of words.\n",
    "\n",
    "Note:- Consider maximum no. of digits in the number as 4.\n",
    "\n",
    "Examples:\n",
    "\n",
    "Example 1:\n",
    "Input: 7824\n",
    "Output: seven thousand eight hundred twenty four\n",
    "Explanation: 7824 in words can be written as seven thousand eight hundred twenty four.\n",
    "\n",
    "Example 2:\n",
    "Input: 370\n",
    "Output: three hundred seventy\n",
    "Explanation: 370 in words can be written as three hundred seventy.\n",
    "'''\n",
    "from num2words import num2words\n",
    " \n",
    "# Most common usage.\n",
    "print(num2words(36))\n",
    " "
   ]
  },
  {
   "cell_type": "code",
   "execution_count": 6,
   "id": "83d346a8-a43f-455f-9c86-3cc669d1c4bf",
   "metadata": {},
   "outputs": [],
   "source": [
    "#strings"
   ]
  },
  {
   "cell_type": "code",
   "execution_count": 9,
   "id": "a6b6ebb8-8f3a-45c8-ba89-d6cf22cf988a",
   "metadata": {},
   "outputs": [
    {
     "name": "stdin",
     "output_type": "stream",
     "text": [
      "Enter a string ABC\n"
     ]
    },
    {
     "name": "stdout",
     "output_type": "stream",
     "text": [
      "Not Palindrome\n"
     ]
    }
   ],
   "source": [
    "'''\n",
    "Problem Statement: \"Given a string, check if the string is palindrome or not.\"\n",
    "A string is said to be palindrome if the reverse of the string is the same as the string.\n",
    "\n",
    "Examples:\n",
    "\n",
    "Example 1:\n",
    "Input: Str =  “ABCDCBA”\n",
    "Output: Palindrome\n",
    "Explanation: String when reversed is the same as string.\n",
    "\n",
    "Example 2:\n",
    "Input: Str = “TAKE U FORWARD”\n",
    "Output: Not Palindrome\n",
    "Explanation: String when reversed is not the same as string.\n",
    "'''\n",
    "st=input(\"Enter a string\")\n",
    "if st[0:]==st[::-1]:\n",
    "    print(\"Palindrome\")\n",
    "else:\n",
    "    print(\"Not Palindrome\")"
   ]
  },
  {
   "cell_type": "code",
   "execution_count": 10,
   "id": "6593b44f-7a35-4473-aac6-910f5e0083f0",
   "metadata": {},
   "outputs": [
    {
     "name": "stdout",
     "output_type": "stream",
     "text": [
      "Vowels: 10\n",
      "Consonants: 11\n",
      "White spaces: 4\n"
     ]
    }
   ],
   "source": [
    "'''\n",
    "Que2\n",
    "Problem Statement: Given a string, write a program to count the number of vowels, consonants, and spaces in that string.\n",
    "\n",
    "Examples:\n",
    "\n",
    "Example 1:\n",
    "Input: string str=”Take u forward is Awesome”\n",
    "Output: \n",
    "Vowels: 10\n",
    "Consonants: 11\n",
    "White spaces: 4\n",
    "Explanation: \n",
    "'''\n",
    "def count_vowels_consonants_spaces(string):\n",
    "    vowels = 'aeiouAEIOU'\n",
    "    consonants = 'bcdfghjklmnpqrstvwxyzBCDFGHJKLMNPQRSTVWXYZ'\n",
    "    \n",
    "    vowel_count = 0\n",
    "    consonant_count = 0\n",
    "    space_count = 0\n",
    "    \n",
    "    for char in string:\n",
    "        if char in vowels:\n",
    "            vowel_count += 1\n",
    "        elif char in consonants:\n",
    "            consonant_count += 1\n",
    "        elif char == ' ':\n",
    "            space_count += 1\n",
    "    \n",
    "    return vowel_count, consonant_count, space_count\n",
    "\n",
    "# Example usage:\n",
    "input_string = \"Take u forward is Awesome\"\n",
    "vowels, consonants, spaces = count_vowels_consonants_spaces(input_string)\n",
    "print(\"Vowels:\", vowels)\n",
    "print(\"Consonants:\", consonants)\n",
    "print(\"White spaces:\", spaces)\n"
   ]
  },
  {
   "cell_type": "code",
   "execution_count": 1,
   "id": "89bcc46e-4778-44c1-a928-62c000dc40ec",
   "metadata": {},
   "outputs": [
    {
     "name": "stdout",
     "output_type": "stream",
     "text": [
      "65\n"
     ]
    }
   ],
   "source": [
    "'''\n",
    "Que3\n",
    "Problem Statement: Given a character, Find the ASCII value of the character.\n",
    "\n",
    "Examples:\n",
    "\n",
    "Example 1:\n",
    "Input: c = ‘A’\n",
    "Output: 65\n",
    "Explanation: ASCII value of A is 65\n",
    "\n",
    "Example 2:\n",
    "Input: c = ‘e’\n",
    "Output: 101\n",
    "Explanation: ASCII value of e is 101\n",
    "'''\n",
    "ch='A'\n",
    "print(ord(ch))"
   ]
  },
  {
   "cell_type": "code",
   "execution_count": 6,
   "id": "645d3f86-dd73-426e-88b2-0826d691f274",
   "metadata": {},
   "outputs": [
    {
     "name": "stdout",
     "output_type": "stream",
     "text": [
      "tk  frwrd\n"
     ]
    }
   ],
   "source": [
    "'''\n",
    "Que4\n",
    "Problem Statement: Given a String, write a program to remove vowels from a given String.\n",
    "\n",
    "Examples:\n",
    "\n",
    "Example 1:\n",
    "Input: Str = “take u forward”\n",
    "Output: tk  frwrd\n",
    "Explanation: All vowels are removed from the given String.\n",
    "\n",
    "Example 2:\n",
    "Input: Str = “I am very happy today”\n",
    "Output:  m vry happy tdy\n",
    "Explanation: All vowels are removed from the given String.\n",
    "'''\n",
    "Str = \"take u forward\"\n",
    "st=\"\"\n",
    "vowels=['a','e','i','o','u','A','E','I','O','U']\n",
    "for i in Str:\n",
    "    if i in vowels:\n",
    "        pass\n",
    "    else:\n",
    "        st+=i\n",
    "print(st)"
   ]
  },
  {
   "cell_type": "code",
   "execution_count": 7,
   "id": "01773f20-8c65-4728-8a51-951a1d64d700",
   "metadata": {},
   "outputs": [
    {
     "name": "stdout",
     "output_type": "stream",
     "text": [
      "Takeyouforward\n"
     ]
    }
   ],
   "source": [
    "'''\n",
    "Que5\n",
    "Problem Statement: Given a string, write a program to remove all the whitespaces from the string.\n",
    "\n",
    "Examples:\n",
    "\n",
    "Example 1:\n",
    "Input: str = “Take you forward” \n",
    "Output: Takeyouforward\n",
    "Explanation: After removing all the whitespaces Takeyouforward is the result\n",
    "\n",
    "Example 2:\n",
    "Input: str = “How are you doing”\n",
    "Output: Howareyoudoing\n",
    "Explanation: After removing all the whitespaces Howareyoudoing is the result\n",
    "'''\n",
    "str = \"Take you forward\"\n",
    "print(str.replace(\" \",\"\"))"
   ]
  },
  {
   "cell_type": "code",
   "execution_count": 2,
   "id": "dc0e3ff8-178a-4b83-a12f-7e1154527dc7",
   "metadata": {},
   "outputs": [
    {
     "name": "stdout",
     "output_type": "stream",
     "text": [
      "takeuforward\n"
     ]
    }
   ],
   "source": [
    "'''\n",
    "Que6\n",
    "Problem Statement: Write a program to remove all characters from a string except alphabets in a given string.\n",
    "\n",
    "Examples:\n",
    "\n",
    "Example 1:\n",
    "Input: string str = \"take12% *&u ^$#forward\"\n",
    "Output: takeuforward\n",
    "Explanation:\n",
    "Characters 1,2,%,*,&,^,$,# along with whitespaces are \n",
    "removed but the order of remaining alphabets is preserved.\n",
    "\n",
    "Example 2:\n",
    "Input: String str = \"1.Python & 2.Java\"\n",
    "Output: PythonJava\n",
    "Explanation: \n",
    "Characters 1.&2. along with whitespaces are removed \n",
    "but the order of remaining alphabets is preserved.\n",
    "'''\n",
    "Str = \"take12% *&u ^$#forward\"\n",
    "st=\"\"\n",
    "for i in Str:\n",
    "    if i.isalpha():\n",
    "        st+=i\n",
    "print(st)"
   ]
  },
  {
   "cell_type": "code",
   "execution_count": 3,
   "id": "91fa4698-5a87-4be6-9c86-2fc5c7f6e7b0",
   "metadata": {},
   "outputs": [
    {
     "name": "stdout",
     "output_type": "stream",
     "text": [
      "olleH\n"
     ]
    }
   ],
   "source": [
    "'''\n",
    "Que7\n",
    "Reverse a string\n",
    "'''\n",
    "st=\"Hello\"\n",
    "print(st[::-1])"
   ]
  },
  {
   "cell_type": "code",
   "execution_count": 4,
   "id": "25760d8c-d9fa-49a2-83de-f1b92912de6b",
   "metadata": {},
   "outputs": [
    {
     "name": "stdout",
     "output_type": "stream",
     "text": [
      "a+b-c+d\n"
     ]
    }
   ],
   "source": [
    "'''\n",
    "Que8\n",
    "Problem Statement: \n",
    "\n",
    "Remove brackets from an algebraic expression\n",
    "\n",
    "Write a program to remove brackets from an algebraic expression\n",
    "\n",
    "Given an algebraic expression, we need to simplify the expression and remove the brackets.\n",
    "\n",
    "Examples:\n",
    "\n",
    "Example 1:\n",
    "Input: “a+((b-c)+d)”\n",
    "Output: “a+b-c+d”\n",
    "Explanation: Removed all the brackets in the algebric expression.\n",
    "\n",
    "Example 2:\n",
    "Input: “(((a-b))+c)”\n",
    "Output: “a-b+c”\n",
    "Explanation: Removed all the brackets in the algebric expression.\n",
    "'''\n",
    "exp=\"a+((b-c)+d)\"\n",
    "st=\"\"\n",
    "for i in exp:\n",
    "    if i!='(' and i!=')' and i!='[' and i!=']':\n",
    "        st+=i\n",
    "print(st)"
   ]
  },
  {
   "cell_type": "code",
   "execution_count": 42,
   "id": "d89ab0f1-f0aa-4bb5-94c5-86d3268782d5",
   "metadata": {},
   "outputs": [
    {
     "name": "stdout",
     "output_type": "stream",
     "text": [
      "123\n",
      "24\n"
     ]
    }
   ],
   "source": [
    "'''\n",
    "Que9\n",
    "Problem: Given a string, calculate the sum of numbers in a string (multiple consecutive digits are considered one number\n",
    "\n",
    "Examples:\n",
    "\n",
    "Example 1:\n",
    "Input: string = “123xyz”\n",
    "Output: 123\n",
    "\n",
    "Example 2:\n",
    "Input: string = “1xyz23”\n",
    "Output: 24\n",
    "'''\n",
    "def sum_of_numbers(s):\n",
    "    current_number = 0\n",
    "    total_sum = 0\n",
    "    \n",
    "    for char in s:\n",
    "        if char.isdigit():\n",
    "            current_number = current_number * 10 + int(char)\n",
    "        else:\n",
    "            total_sum += current_number\n",
    "            current_number = 0\n",
    "    \n",
    "    # Add the last number if the string ends with digits\n",
    "    total_sum += current_number\n",
    "    \n",
    "    return total_sum\n",
    "\n",
    "# Example usage\n",
    "str1 = \"123xyz\"\n",
    "str2 = \"1xyz23\"\n",
    "print(sum_of_numbers(str1))  # Output: 123\n",
    "print(sum_of_numbers(str2))  # Output: 24\n"
   ]
  },
  {
   "cell_type": "code",
   "execution_count": 16,
   "id": "21ff4dae-2f3d-4bb6-865b-51530b30e031",
   "metadata": {},
   "outputs": [
    {
     "name": "stdout",
     "output_type": "stream",
     "text": [
      "TakE U ForwarD IS AwesomE\n"
     ]
    }
   ],
   "source": [
    "'''\n",
    "Que10\n",
    "Problem Statement: Given a string, write a program to Capitalize the first and last character of each word of that string.\n",
    "\n",
    "Examples:\n",
    "\n",
    "Example 1:\n",
    "Input: String str = \"take u forward is awesome\"\n",
    "Output: “TakE U ForwarD IS AwesomE”\n",
    "Explanation: We get the result after capitalizing the first and last character of each word of a string\n",
    "\n",
    "Example 2:\n",
    "Input: String str = \"Take u Forward is Awesome\"\n",
    "Output: “TakE U ForwarD IS AwesomE”\n",
    "Explanation: Characters T, F, A are initially in uppercase , so they remain as they are in the result.\n",
    "'''\n",
    "st = \"take u forward is awesome\"\n",
    "\n",
    "result=[]\n",
    "words=st.split()\n",
    "for word in words:\n",
    "    if len(word) == 1:\n",
    "            result.append(word.upper())\n",
    "    else:\n",
    "            new_word = word[0].upper() + word[1:-1] + word[-1].upper()\n",
    "            result.append(new_word)\n",
    "    \n",
    "print(' '.join(result))"
   ]
  },
  {
   "cell_type": "code",
   "execution_count": 12,
   "id": "66ec7efd-8845-47b1-a735-82ce7e59d7ce",
   "metadata": {},
   "outputs": [
    {
     "name": "stdout",
     "output_type": "stream",
     "text": [
      "{'t': 1, 'a': 2, 'k': 1, 'e': 1, 'u': 1, 'f': 1, 'o': 1, 'r': 2, 'w': 1, 'd': 1}\n"
     ]
    }
   ],
   "source": [
    "'''\n",
    "Que11\n",
    "Problem Statement: Given a string, calculate the frequency of characters in a string.\n",
    "\n",
    "Examples:\n",
    "\n",
    "Example 1:\n",
    "Input: takeuforward\n",
    "Output: a2 d1 e1 f1 k1 o1 r2 t1 u1 w1 \n",
    "Explanation: Count of every character of string is printed.\n",
    "\n",
    "Example 2:\n",
    "Input: articles\n",
    "Output: a1 c1 e1 i1 l1 r1 s1 t1 \n",
    "Explanation: Count of every character of string is printed.\n",
    "'''\n",
    "st=\"takeuforward\"\n",
    "dict={}\n",
    "for i in st:\n",
    "    if i in dict:\n",
    "        dict[i]+=1\n",
    "    else:\n",
    "        dict[i]=1\n",
    "print(dict)"
   ]
  },
  {
   "cell_type": "code",
   "execution_count": 17,
   "id": "5818296e-ba21-4792-85b1-ef4f0df64671",
   "metadata": {},
   "outputs": [
    {
     "name": "stdout",
     "output_type": "stream",
     "text": [
      "l\n",
      "e\n"
     ]
    }
   ],
   "source": [
    "'''\n",
    "Que12\n",
    "Problem:  Given a string, print non-repeating characters of the string.\n",
    "\n",
    "Examples:\n",
    "\n",
    "Example 1:\n",
    "Input: string = “google”\n",
    "Output: l,e\n",
    "\n",
    "Explanation: Non repeating characters are l,e.\n",
    "\n",
    "Example 2:\n",
    "Input: string = “yahoo”\n",
    "Output: y,a,h\n",
    "Explanation: Non repeating characters are y,a,h\n",
    "'''\n",
    "st=\"google\"\n",
    "dict={}\n",
    "for i in st:\n",
    "    if i in dict:\n",
    "        dict[i]+=1\n",
    "    else:\n",
    "        dict[i]=1\n",
    "for i,j in dict.items():\n",
    "    if j==1:\n",
    "        print(i)"
   ]
  },
  {
   "cell_type": "code",
   "execution_count": 18,
   "id": "5a944909-3eb7-47d1-b52f-a3aa044e360d",
   "metadata": {},
   "outputs": [
    {
     "name": "stdout",
     "output_type": "stream",
     "text": [
      "True\n",
      "False\n"
     ]
    }
   ],
   "source": [
    "'''\n",
    "Que13\n",
    "Problem Statement: Given two strings, check if two strings are anagrams of each other or not.\n",
    "\n",
    "Examples:\n",
    "\n",
    "Example 1:\n",
    "Input: CAT, ACT\n",
    "Output: true\n",
    "Explanation: Since the count of every letter of both strings are equal.\n",
    "\n",
    "Example 2:\n",
    "Input: RULES, LESRT \n",
    "Output: false\n",
    "Explanation: Since the count of U and T  is not equal in both strings.\n",
    "'''\n",
    "def are_anagrams(str1, str2):\n",
    "    # If lengths of both strings are not equal, they cannot be anagrams\n",
    "    if len(str1) != len(str2):\n",
    "        return False\n",
    "    \n",
    "    # Create frequency dictionaries for both strings\n",
    "    frequency1 = {}\n",
    "    frequency2 = {}\n",
    "    \n",
    "    for char in str1:\n",
    "        if char in frequency1:\n",
    "            frequency1[char] += 1\n",
    "        else:\n",
    "            frequency1[char] = 1\n",
    "    \n",
    "    for char in str2:\n",
    "        if char in frequency2:\n",
    "            frequency2[char] += 1\n",
    "        else:\n",
    "            frequency2[char] = 1\n",
    "    \n",
    "    # Compare frequency dictionaries\n",
    "    return frequency1 == frequency2\n",
    "\n",
    "# Example usage\n",
    "str1 = \"CAT\"\n",
    "str2 = \"ACT\"\n",
    "print(are_anagrams(str1, str2))  # Output: True\n",
    "\n",
    "str1 = \"RULES\"\n",
    "str2 = \"LESRT\"\n",
    "print(are_anagrams(str1, str2))  # Output: False\n"
   ]
  },
  {
   "cell_type": "code",
   "execution_count": 22,
   "id": "e9ba03f4-3978-4feb-8176-ad2b9bc0f3d2",
   "metadata": {},
   "outputs": [
    {
     "name": "stdout",
     "output_type": "stream",
     "text": [
      "a\n"
     ]
    }
   ],
   "source": [
    "'''\n",
    "Que14\n",
    "Problem Statement: Given a string, return the character that occurs the maximum number of times in the string. \n",
    "If the maximum occurrence of two or more characters is the same, return any one of them. \n",
    "\n",
    "Examples:\n",
    "\n",
    "Example 1:\n",
    "Input: str = “takeuforward”\n",
    "Output: a\n",
    "Explanation: The character 'a' and 'r’ have the same  maximum occurrence i.e 2. Hence we can print any one of them\n",
    "\n",
    "Example 2:\n",
    "Input: str = “apple”\n",
    "Output: p\n",
    "Explanation: The character 'p' have the maximum occurrence i.e 2.\n",
    "'''\n",
    "st = \"takeuforward\"\n",
    "char_count = {}\n",
    "\n",
    "# Count the frequency of each character in the string\n",
    "for char in st:\n",
    "    if char in char_count:\n",
    "        char_count[char] += 1\n",
    "    else:\n",
    "        char_count[char] = 1\n",
    "\n",
    "# Initialize variables to track the character with the maximum frequency\n",
    "max_char = ''\n",
    "max_count = 0\n",
    "\n",
    "# Find the character with the maximum frequency\n",
    "for char, count in char_count.items():\n",
    "    if count > max_count:\n",
    "        max_char = char\n",
    "        max_count = count\n",
    "\n",
    "print(max_char)\n"
   ]
  },
  {
   "cell_type": "code",
   "execution_count": 25,
   "id": "42ed88f2-2347-4dbe-b46b-c3131166faf7",
   "metadata": {},
   "outputs": [
    {
     "name": "stdout",
     "output_type": "stream",
     "text": [
      "bca\n",
      "cbad\n"
     ]
    }
   ],
   "source": [
    "'''\n",
    "Que15\n",
    "Problem Statement: Given a String remove all the duplicate characters from the given String.\n",
    "\n",
    "Examples:\n",
    "\n",
    "Example 1:\n",
    "Input: s = \"bcabc\"\n",
    "Output: “bca\"\n",
    "\n",
    "Explanation: Duplicate Characters are removed\n",
    "Example 2:\n",
    "Input: s = \"cbacdcbc\"\n",
    "Output: \"cbad\" \n",
    "Explanation: Duplicate Characters are removed\n",
    "'''\n",
    "def remove_duplicates(s):\n",
    "    seen = set()\n",
    "    result = []\n",
    "    \n",
    "    for char in s:\n",
    "        if char not in seen:\n",
    "            seen.add(char)\n",
    "            result.append(char)\n",
    "    \n",
    "    return ''.join(result)\n",
    "\n",
    "# Example usage\n",
    "s1 = \"bcabc\"\n",
    "s2 = \"cbacdcbc\"\n",
    "print(remove_duplicates(s1))  # Output: \"bca\"\n",
    "print(remove_duplicates(s2))  # Output: \"cbad\"\n"
   ]
  },
  {
   "cell_type": "code",
   "execution_count": 26,
   "id": "20ae2888-ea8f-43db-ac50-2dc342b88855",
   "metadata": {},
   "outputs": [
    {
     "name": "stdout",
     "output_type": "stream",
     "text": [
      "s - 2\n",
      "i - 4\n",
      "n - 3\n",
      "t - 2\n"
     ]
    }
   ],
   "source": [
    "'''\n",
    "Que16\n",
    "Print all the duplicates in the string\n",
    "\n",
    "Problem Statement: Given a string of characters from a to z. Print the duplicate characters\n",
    "(which are occurring more than once) in the given string with their occurrences count.\n",
    "\n",
    "Examples:\n",
    "\n",
    "Example 1:\n",
    "Input:\n",
    " str= \"sinstriiintng\"\n",
    "Output:\n",
    "i - 4\n",
    "n - 3\n",
    "s - 2\n",
    "t - 2\n",
    "'''\n",
    "def print_duplicates(s):\n",
    "    char_count = {}\n",
    "\n",
    "    # Count the frequency of each character in the string\n",
    "    for char in s:\n",
    "        if char in char_count:\n",
    "            char_count[char] += 1\n",
    "        else:\n",
    "            char_count[char] = 1\n",
    "\n",
    "    # Print characters that have more than one occurrence\n",
    "    for char, count in char_count.items():\n",
    "        if count > 1:\n",
    "            print(f\"{char} - {count}\")\n",
    "\n",
    "# Example usage\n",
    "str1 = \"sinstriiintng\"\n",
    "print_duplicates(str1)\n"
   ]
  },
  {
   "cell_type": "code",
   "execution_count": 27,
   "id": "0e5cf7bf-7f9d-4d04-a760-176a2ca6cc44",
   "metadata": {},
   "outputs": [
    {
     "name": "stdout",
     "output_type": "stream",
     "text": [
      "abd\n"
     ]
    }
   ],
   "source": [
    "'''\n",
    "Que17\n",
    "Problem Statement: Given two strings, write a program to remove characters from the first string which are present in\n",
    "the second string.\n",
    "\n",
    "Examples:\n",
    "\n",
    "Example 1:\n",
    "Input: String str1 = “abcdef”\n",
    "       String str2 = “cefz”\n",
    "Output: abd\n",
    "Explanation: The common characters in both strings are c, e, f.\n",
    "So after removing these characters from string 1 we get string resulting string as abd.\n",
    "\n",
    "\n",
    "Example 2:\n",
    "Input: String str1 = “xyzpw”\n",
    "       String str2 = “lmno”\n",
    "Output: xyzpw\n",
    "Explanation: As there is no common character in both the strings, string 1 remains unchanged.\n",
    "'''\n",
    "str1 = \"abcdef\"\n",
    "str2 = \"cefz\"\n",
    "st=\"\"\n",
    "for i in str1:\n",
    "    if i not in str2:\n",
    "        st+=i\n",
    "print(st)\n",
    "        "
   ]
  },
  {
   "cell_type": "code",
   "execution_count": 43,
   "id": "53744d17-f008-4934-93cf-4423dc02aaae",
   "metadata": {},
   "outputs": [
    {
     "name": "stdout",
     "output_type": "stream",
     "text": [
      "bcdeyza\n"
     ]
    }
   ],
   "source": [
    "'''\n",
    "Que18\n",
    "Problem Statement: Given a string, write a program to change every letter in the given string with the\n",
    "letter following it in the alphabet (ie. a becomes b, p becomes q, z becomes a)\n",
    "'''\n",
    "def change_letters(s):\n",
    "    result = ''\n",
    "    \n",
    "    for char in s:\n",
    "        if char.isalpha():\n",
    "            # Calculate the next letter in the alphabet\n",
    "            next_char = chr((ord(char) - ord('a' if char.islower() else 'A') + 1) % 26 + ord('a' if char.islower() else 'A'))\n",
    "        else:\n",
    "            # Keep non-alphabetic characters unchanged\n",
    "            next_char = char\n",
    "        result += next_char\n",
    "    \n",
    "    return result\n",
    "\n",
    "# Example usage\n",
    "str1 = \"abcdxyz\"\n",
    "print(change_letters(str1))  # Output: \"bcdeyza\"\n"
   ]
  },
  {
   "cell_type": "code",
   "execution_count": 29,
   "id": "e77f5f5d-e78e-42e2-a286-9a1ae0cffb92",
   "metadata": {},
   "outputs": [
    {
     "name": "stdout",
     "output_type": "stream",
     "text": [
      "Google\n",
      "Microsoft\n"
     ]
    }
   ],
   "source": [
    "'''\n",
    "Que19\n",
    "Problem: Given a String, find the largest word in the string.\n",
    "\n",
    "Examples:\n",
    "\n",
    "Example 1:\n",
    "Input: string s=”Google Doc”\n",
    "Output: “Google”\n",
    "\n",
    "Explanation: Google is the largest word in the given string.\n",
    "\n",
    "Example 2:\n",
    "Input: string s=”Microsoft Teams”\n",
    "Output: “Microsoft”\n",
    "Explanation: Microsoft is the largest word in the given string\n",
    "'''\n",
    "def largest_word(s):\n",
    "    words = s.split()  # Split the string into words\n",
    "    max_word = \"\"\n",
    "    \n",
    "    for word in words:\n",
    "        if len(word) > len(max_word):\n",
    "            max_word = word\n",
    "    \n",
    "    return max_word\n",
    "\n",
    "# Example usage\n",
    "s1 = \"Google Doc\"\n",
    "s2 = \"Microsoft Teams\"\n",
    "print(largest_word(s1))  # Output: \"Google\"\n",
    "print(largest_word(s2))  # Output: \"Microsoft\"\n",
    "\n"
   ]
  },
  {
   "cell_type": "code",
   "execution_count": 31,
   "id": "45466e13-1c57-45bf-b192-584122e037b0",
   "metadata": {},
   "outputs": [
    {
     "name": "stdout",
     "output_type": "stream",
     "text": [
      "bcgxz\n",
      "abcde\n"
     ]
    }
   ],
   "source": [
    "'''\n",
    "Que20\n",
    "Problem Statement:  Write a program to sort characters (numbers and punctuation symbols are not included) in a given string.\n",
    "\n",
    "Examples:\n",
    "\n",
    "Example 1:\n",
    "Input: String str = “zxcbg”\n",
    "Output: bcgxz\n",
    "Explanation: After sorting we get string as bcgxz\n",
    "\n",
    "Example 2:\n",
    "Input: String str = “edcba”\n",
    "Output: abcde\n",
    "Explanation: After sorting we get string as abcde\n",
    "'''\n",
    "def sort_characters(s):\n",
    "    # Filter out non-alphabetic characters\n",
    "    filtered_chars = [char for char in s if char.isalpha()]\n",
    "    \n",
    "    # Sort the alphabetic characters\n",
    "    sorted_chars = sorted(filtered_chars)\n",
    "    \n",
    "    # Join the sorted characters back into a string\n",
    "    return ''.join(sorted_chars)\n",
    "\n",
    "# Example usage\n",
    "str1 = \"zxcbg\"\n",
    "str2 = \"edcba\"\n",
    "print(sort_characters(str1))  # Output: \"bcgxz\"\n",
    "print(sort_characters(str2))  # Output: \"abcde\"\n"
   ]
  },
  {
   "cell_type": "code",
   "execution_count": 35,
   "id": "e9691ee0-bf6e-4a44-997c-3a42a67dfd94",
   "metadata": {},
   "outputs": [
    {
     "name": "stdout",
     "output_type": "stream",
     "text": [
      "1\n",
      "2\n"
     ]
    }
   ],
   "source": [
    "'''\n",
    "Que21\n",
    "Problem Statement: Write a program to count the number of words in a given string.\n",
    "'''\n",
    "def count_word(st):\n",
    "    cnt=1\n",
    "    if \" \" not in st:\n",
    "        return 1\n",
    "    if st==\"\":\n",
    "        return 0\n",
    "    for i in st:\n",
    "        if i==\" \":\n",
    "            cnt+=1\n",
    "    \n",
    "    return cnt\n",
    "\n",
    "a=\"Hello\"\n",
    "b=\"Hello Hi\"\n",
    "print(count_word(a))\n",
    "print(count_word(b))\n"
   ]
  },
  {
   "cell_type": "code",
   "execution_count": 41,
   "id": "0fa156f5-ce11-4888-b663-3eb4ce36157c",
   "metadata": {},
   "outputs": [
    {
     "name": "stdout",
     "output_type": "stream",
     "text": [
      "google\n",
      "-1\n"
     ]
    }
   ],
   "source": [
    "'''\n",
    "Que22\n",
    "Problem Statement: Write a program to find a word in a given string that has the highest number of repeated letters. \n",
    "If not found, return -1.\n",
    "\n",
    "Examples:\n",
    "\n",
    "Example 1:\n",
    "Input: string=”abcdefghij google microsoft”\n",
    "Output: google\n",
    "Explanation: In “google” g appears 2 times, o appears 2 times which is highest among all words\n",
    "\n",
    "Example 2:\n",
    "Input: string = “cameron blue”\n",
    "Output: -1\n",
    "Explanation: No word has more than 1 letter.\n",
    "'''\n",
    "def word_with_highest_repeated_letters(s):\n",
    "    max_repeated_letters = 0\n",
    "    word_with_max_repeated_letters = \"\"\n",
    "    \n",
    "    # Split the string into words\n",
    "    words = s.split()\n",
    "    \n",
    "    for word in words:\n",
    "        letter_count = {}\n",
    "        for letter in word:\n",
    "            if letter in letter_count:\n",
    "                letter_count[letter] += 1\n",
    "            else:\n",
    "                letter_count[letter] = 1\n",
    "        \n",
    "        max_count = max(letter_count.values(), default=0)\n",
    "        if max_count > max_repeated_letters:\n",
    "            max_repeated_letters = max_count\n",
    "            word_with_max_repeated_letters = word\n",
    "    \n",
    "    if max_repeated_letters > 1:\n",
    "        return word_with_max_repeated_letters\n",
    "    else:\n",
    "        return -1\n",
    "\n",
    "# Example usage\n",
    "s1 = \"abcdefghij google microsoft\"\n",
    "s2 = \"cameron blue\"\n",
    "print(word_with_highest_repeated_letters(s1))  # Output: \"google\"\n",
    "print(word_with_highest_repeated_letters(s2))  # Output: -1\n"
   ]
  },
  {
   "cell_type": "code",
   "execution_count": 37,
   "id": "02a48993-9e61-4965-9652-7dd667fcaf1c",
   "metadata": {},
   "outputs": [
    {
     "name": "stdout",
     "output_type": "stream",
     "text": [
      "JAVa\n"
     ]
    }
   ],
   "source": [
    "'''\n",
    "Que23\n",
    "Problem Statement: Write a  program to change the case (lower to upper and upper to lower cases) of each character of a\n",
    "given string.\n",
    "\n",
    "Examples:\n",
    "\n",
    "Example 1:\n",
    "Input: String str = “javA”\n",
    "Output: JAVa\n",
    "Explanation:\n",
    " Changed the lower case characters to uppercase and vice versa.\n",
    "\n",
    "Example 2:\n",
    "Input: String str = “take u forward IS Awesome”\n",
    "Output: TAKE U FORWARD is aWESOME\n",
    "Explanation: Changed the lower case characters to uppercase and vice versa.\n",
    "'''\n",
    "st=\"javA\"\n",
    "s=\"\"\n",
    "for i in st:\n",
    "    if i.islower():\n",
    "        s+=i.upper()\n",
    "    else:\n",
    "        s+=i.lower()\n",
    "print(s)"
   ]
  },
  {
   "cell_type": "code",
   "execution_count": 38,
   "id": "4b049c07-24e4-4287-a19c-83dbb8109677",
   "metadata": {},
   "outputs": [
    {
     "name": "stdout",
     "output_type": "stream",
     "text": [
      "Helloworld\n"
     ]
    }
   ],
   "source": [
    "'''\n",
    "Que24\n",
    "Problem Statement: Concatenate one string to another. Write a program to concatenate one string's contents to another.\n",
    "Concatenation means to join two (or more) strings and form a combined string having the characters of both \n",
    "( or all) strings in the same order as they were before in separate strings.\n",
    "'''\n",
    "a=\"Hello\"\n",
    "b=\"world\"\n",
    "print(a+b)"
   ]
  },
  {
   "cell_type": "code",
   "execution_count": 39,
   "id": "75768226-77ce-4c5b-a1c3-faa4652678bf",
   "metadata": {},
   "outputs": [
    {
     "name": "stdout",
     "output_type": "stream",
     "text": [
      "5\n",
      "-1\n"
     ]
    }
   ],
   "source": [
    "'''\n",
    "Que25\n",
    "Problem statement: “Given two strings text and pattern find the first occurrence of str1 in str2\n",
    "if found print it’s index if not found print -1.”\n",
    "\n",
    "Examples:\n",
    "\n",
    "Example 1:\n",
    "Input: str1 = \"takeuforward\"\n",
    "       str2 = “forward”\n",
    "Output: 5\n",
    "Explanation: \"Forward\" is present in the 5th index in \"takeuforward\"\n",
    "\n",
    "Example 2:\n",
    "Input: str1 = “hello”\n",
    "       str2 = “az”\n",
    "Output: -1\n",
    "Explanation: \"az\" is not a substring of \"hello\"\n",
    "'''\n",
    "def find_first_occurrence(str1, str2):\n",
    "    index = str1.find(str2)\n",
    "    return index if index != -1 else -1\n",
    "\n",
    "# Example usage\n",
    "str1 = \"takeuforward\"\n",
    "str2 = \"forward\"\n",
    "print(find_first_occurrence(str1, str2))  # Output: 5\n",
    "\n",
    "str1 = \"hello\"\n",
    "str2 = \"az\"\n",
    "print(find_first_occurrence(str1, str2))  # Output: -1\n"
   ]
  },
  {
   "cell_type": "code",
   "execution_count": 40,
   "id": "28daa91c-a1c4-4a06-8fb5-3ecfd2a96326",
   "metadata": {},
   "outputs": [
    {
     "name": "stdout",
     "output_type": "stream",
     "text": [
      "program amazing an is this\n",
      "decent is This\n"
     ]
    }
   ],
   "source": [
    "'''\n",
    "Que26\n",
    "Problem Statement: Given a string s, reverse the words of the string.\n",
    "\n",
    "Examples:\n",
    "\n",
    "Example 1:\n",
    "Input: s=”this is an amazing program”\n",
    "Output: “program amazing an is this”\n",
    "\n",
    "Example 2:\n",
    "Input: s=”This is decent”\n",
    "Output: “decent is This”\n",
    "'''\n",
    "def reverse_words(s):\n",
    "    # Split the string into words\n",
    "    words = s.split()\n",
    "    \n",
    "    # Reverse the order of words\n",
    "    reversed_words = words[::-1]\n",
    "    \n",
    "    # Join the reversed words back into a string\n",
    "    reversed_string = ' '.join(reversed_words)\n",
    "    \n",
    "    return reversed_string\n",
    "\n",
    "# Example usage\n",
    "s1 = \"this is an amazing program\"\n",
    "s2 = \"This is decent\"\n",
    "print(reverse_words(s1))  # Output: \"program amazing an is this\"\n",
    "print(reverse_words(s2))  # Output: \"decent is This\"\n",
    "\n"
   ]
  },
  {
   "cell_type": "code",
   "execution_count": null,
   "id": "130b410f-2439-4258-9ee6-496a5c1a2a33",
   "metadata": {},
   "outputs": [],
   "source": []
  }
 ],
 "metadata": {
  "kernelspec": {
   "display_name": "Python 3 (ipykernel)",
   "language": "python",
   "name": "python3"
  },
  "language_info": {
   "codemirror_mode": {
    "name": "ipython",
    "version": 3
   },
   "file_extension": ".py",
   "mimetype": "text/x-python",
   "name": "python",
   "nbconvert_exporter": "python",
   "pygments_lexer": "ipython3",
   "version": "3.10.8"
  }
 },
 "nbformat": 4,
 "nbformat_minor": 5
}
